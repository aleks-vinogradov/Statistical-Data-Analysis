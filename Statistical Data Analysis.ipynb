{
 "cells": [
  {
   "cell_type": "markdown",
   "id": "e8f53523",
   "metadata": {
    "toc": true
   },
   "source": [
    "<h1>Оглавление<span class=\"tocSkip\"></span></h1>\n",
    "<div class=\"toc\"><ul class=\"toc-item\"><li><span><a href=\"#Загрузка-данных\" data-toc-modified-id=\"Загрузка-данных-1\"><span class=\"toc-item-num\">1&nbsp;&nbsp;</span>Загрузка данных</a></span><ul class=\"toc-item\"><li><span><a href=\"#Считаем-файлы-с-данными.-Задаём-переменные-и-отображаем-первые-строки:\" data-toc-modified-id=\"Считаем-файлы-с-данными.-Задаём-переменные-и-отображаем-первые-строки:-1.1\"><span class=\"toc-item-num\">1.1&nbsp;&nbsp;</span>Считаем файлы с данными. Задаём переменные и отображаем первые строки:</a></span></li><li><span><a href=\"#Изучаем-общую-информацию-о-каждом-датафрейме:\" data-toc-modified-id=\"Изучаем-общую-информацию-о-каждом-датафрейме:-1.2\"><span class=\"toc-item-num\">1.2&nbsp;&nbsp;</span>Изучаем общую информацию о каждом датафрейме:</a></span></li></ul></li><li><span><a href=\"#Предобработка-данных\" data-toc-modified-id=\"Предобработка-данных-2\"><span class=\"toc-item-num\">2&nbsp;&nbsp;</span>Предобработка данных</a></span></li><li><span><a href=\"#Исследовательский-анализ-данных\" data-toc-modified-id=\"Исследовательский-анализ-данных-3\"><span class=\"toc-item-num\">3&nbsp;&nbsp;</span>Исследовательский анализ данных</a></span><ul class=\"toc-item\"><li><span><a href=\"#Частота-встречаемости-городов-в-выборке:\" data-toc-modified-id=\"Частота-встречаемости-городов-в-выборке:-3.1\"><span class=\"toc-item-num\">3.1&nbsp;&nbsp;</span>Частота встречаемости городов в выборке:</a></span></li><li><span><a href=\"#Соотношение-пользователей-с-подпиской-и-без-подписки:\" data-toc-modified-id=\"Соотношение-пользователей-с-подпиской-и-без-подписки:-3.2\"><span class=\"toc-item-num\">3.2&nbsp;&nbsp;</span>Соотношение пользователей с подпиской и без подписки:</a></span></li><li><span><a href=\"#Возраст-пользователей:\" data-toc-modified-id=\"Возраст-пользователей:-3.3\"><span class=\"toc-item-num\">3.3&nbsp;&nbsp;</span>Возраст пользователей:</a></span></li><li><span><a href=\"#Расстояние,-которое-пользователь-преодолел-за-одну-поездку:\" data-toc-modified-id=\"Расстояние,-которое-пользователь-преодолел-за-одну-поездку:-3.4\"><span class=\"toc-item-num\">3.4&nbsp;&nbsp;</span>Расстояние, которое пользователь преодолел за одну поездку:</a></span></li><li><span><a href=\"#Продолжительность-поездок:\" data-toc-modified-id=\"Продолжительность-поездок:-3.5\"><span class=\"toc-item-num\">3.5&nbsp;&nbsp;</span>Продолжительность поездок:</a></span></li></ul></li><li><span><a href=\"#Объединение-данных\" data-toc-modified-id=\"Объединение-данных-4\"><span class=\"toc-item-num\">4&nbsp;&nbsp;</span>Объединение данных</a></span><ul class=\"toc-item\"><li><span><a href=\"#Объединим-данные-о-пользователях,-поездках-и-подписках-в-один-датафрейм.-Для-этого-воспользуйтесь-методом-merge():\" data-toc-modified-id=\"Объединим-данные-о-пользователях,-поездках-и-подписках-в-один-датафрейм.-Для-этого-воспользуйтесь-методом-merge():-4.1\"><span class=\"toc-item-num\">4.1&nbsp;&nbsp;</span>Объединим данные о пользователях, поездках и подписках в один датафрейм. Для этого воспользуйтесь методом merge():</a></span></li><li><span><a href=\"#Создадим-ещё-два-датафрейма-из-датафрейма,-созданного-на-предыдущем-этапе:\" data-toc-modified-id=\"Создадим-ещё-два-датафрейма-из-датафрейма,-созданного-на-предыдущем-этапе:-4.2\"><span class=\"toc-item-num\">4.2&nbsp;&nbsp;</span>Создадим ещё два датафрейма из датафрейма, созданного на предыдущем этапе:</a></span></li></ul></li><li><span><a href=\"#Подсчёт-выручки\" data-toc-modified-id=\"Подсчёт-выручки-5\"><span class=\"toc-item-num\">5&nbsp;&nbsp;</span>Подсчёт выручки</a></span><ul class=\"toc-item\"><li><span><a href=\"#Создадим-датафрейм-с-агрегированными-данными-о-поездках-на-основе-датафрейма-с-объединёнными-данными-из-шага-4:-найдем-суммарное-расстояние,-количество-поездок-и-суммарное-время-для-каждого-пользователя-за-каждый-месяц.\" data-toc-modified-id=\"Создадим-датафрейм-с-агрегированными-данными-о-поездках-на-основе-датафрейма-с-объединёнными-данными-из-шага-4:-найдем-суммарное-расстояние,-количество-поездок-и-суммарное-время-для-каждого-пользователя-за-каждый-месяц.-5.1\"><span class=\"toc-item-num\">5.1&nbsp;&nbsp;</span>Создадим датафрейм с агрегированными данными о поездках на основе датафрейма с объединёнными данными из шага 4: найдем суммарное расстояние, количество поездок и суммарное время для каждого пользователя за каждый месяц.</a></span></li><li><span><a href=\"#В-этот-же-датафрейм-добавим-столбец-с-помесячной-выручкой,-которую-принёс-каждый-пользователь.\" data-toc-modified-id=\"В-этот-же-датафрейм-добавим-столбец-с-помесячной-выручкой,-которую-принёс-каждый-пользователь.-5.2\"><span class=\"toc-item-num\">5.2&nbsp;&nbsp;</span>В этот же датафрейм добавим столбец с помесячной выручкой, которую принёс каждый пользователь.</a></span></li></ul></li><li><span><a href=\"#Проверка-гипотез\" data-toc-modified-id=\"Проверка-гипотез-6\"><span class=\"toc-item-num\">6&nbsp;&nbsp;</span>Проверка гипотез</a></span><ul class=\"toc-item\"><li><span><a href=\"#Определим,-тратят-ли-пользователи-с-подпиской-больше-времени-на-поездки.\\\" data-toc-modified-id=\"Определим,-тратят-ли-пользователи-с-подпиской-больше-времени-на-поездки.\\-6.1\"><span class=\"toc-item-num\">6.1&nbsp;&nbsp;</span>Определим, тратят ли пользователи с подпиской больше времени на поездки.\\</a></span></li><li><span><a href=\"#Установим-действительно-ли,-что-расстояние-которое-проезжают-пользователи-с-подпиской-за-одну-поездку,-не-превышает-3130-метров.\" data-toc-modified-id=\"Установим-действительно-ли,-что-расстояние-которое-проезжают-пользователи-с-подпиской-за-одну-поездку,-не-превышает-3130-метров.-6.2\"><span class=\"toc-item-num\">6.2&nbsp;&nbsp;</span>Установим действительно ли, что расстояние которое проезжают пользователи с подпиской за одну поездку, не превышает 3130 метров.</a></span></li><li><span><a href=\"#Определим,-будет-ли-помесячная-выручка-от-пользователей-с-подпиской-по-месяцам-выше,-чем-выручка-от-пользователей-без-подписки.\" data-toc-modified-id=\"Определим,-будет-ли-помесячная-выручка-от-пользователей-с-подпиской-по-месяцам-выше,-чем-выручка-от-пользователей-без-подписки.-6.3\"><span class=\"toc-item-num\">6.3&nbsp;&nbsp;</span>Определим, будет ли помесячная выручка от пользователей с подпиской по месяцам выше, чем выручка от пользователей без подписки.</a></span></li><li><span><a href=\"#Какой-тест-вам-понадобился-бы-для-проверки-этой-гипотезы?\" data-toc-modified-id=\"Какой-тест-вам-понадобился-бы-для-проверки-этой-гипотезы?-6.4\"><span class=\"toc-item-num\">6.4&nbsp;&nbsp;</span>Какой тест вам понадобился бы для проверки этой гипотезы?</a></span></li></ul></li><li><span><a href=\"#Распределения\" data-toc-modified-id=\"Распределения-7\"><span class=\"toc-item-num\">7&nbsp;&nbsp;</span>Распределения</a></span><ul class=\"toc-item\"><li><span><a href=\"#Какое-минимальное-количество-промокодов-нужно-разослать,-чтобы-вероятность-не-выполнить-план-была-примерно-5-%?\" data-toc-modified-id=\"Какое-минимальное-количество-промокодов-нужно-разослать,-чтобы-вероятность-не-выполнить-план-была-примерно-5-%?-7.1\"><span class=\"toc-item-num\">7.1&nbsp;&nbsp;</span>Какое минимальное количество промокодов нужно разослать, чтобы вероятность не выполнить план была примерно 5 %?</a></span></li><li><span><a href=\"#Оценить-вероятность-того,-что-уведомление-откроют-не-более-399,5-тыс.-пользователей,-если-разослать-1-млн-уведомлений.\" data-toc-modified-id=\"Оценить-вероятность-того,-что-уведомление-откроют-не-более-399,5-тыс.-пользователей,-если-разослать-1-млн-уведомлений.-7.2\"><span class=\"toc-item-num\">7.2&nbsp;&nbsp;</span>Оценить вероятность того, что уведомление откроют не более 399,5 тыс. пользователей, если разослать 1 млн уведомлений.</a></span></li></ul></li></ul></div>"
   ]
  },
  {
   "cell_type": "markdown",
   "id": "20c57749",
   "metadata": {},
   "source": [
    "# Статистический анализ данных сервиса аренды самокатов GoFast"
   ]
  },
  {
   "cell_type": "markdown",
   "id": "4a66c5fa",
   "metadata": {},
   "source": [
    "**Описание проекта**"
   ]
  },
  {
   "cell_type": "markdown",
   "id": "c85adbf5",
   "metadata": {},
   "source": [
    "**Цель проекта**: проанализировать данные сервиса аренды самокатов GoFast и проверить некоторые гипотезы, которые могут помочь бизнесу вырасти.\\\n",
    "Чтобы совершать поездки по городу, пользователи сервиса GoFast пользуются мобильным приложением. Сервисом можно пользоваться:\n",
    "- без подписки\n",
    " - абонентская плата отсутствует;\n",
    " - стоимость одной минуты поездки — 8 рублей;\n",
    " - стоимость старта (начала поездки) — 50 рублей;\n",
    "- с подпиской Ultra\n",
    " - абонентская плата — 199 рублей в месяц;\n",
    " - стоимость одной минуты поездки — 6 рублей;\n",
    " - стоимость старта — бесплатно."
   ]
  },
  {
   "cell_type": "markdown",
   "id": "940355e5",
   "metadata": {},
   "source": [
    "**Описание данных**"
   ]
  },
  {
   "cell_type": "markdown",
   "id": "b47ace3a",
   "metadata": {},
   "source": [
    "В основных данных есть информация о пользователях, их поездках и подписках.\n",
    "\n",
    "Пользователи — `users_go.csv`\n",
    "\n",
    "- `user_id` - уникальный идентификатор пользователя\n",
    "- `name` - имя пользователя\n",
    "- `age` - возраст\n",
    "- `city` - город\n",
    "- `subscription_type` - тип подписки (free, ultra)\n",
    "\n",
    "Поездки — `rides_go.csv`\n",
    "\n",
    "- `user_id` - уникальный идентификатор пользователя\n",
    "- `distance` - расстояние, которое пользователь проехал в текущей сессии (в метрах)\n",
    "- `duration` - продолжительность сессии (в минутах) — время с того момента, как пользователь нажал кнопку «Начать поездку» до момента, как он нажал кнопку «Завершить поездку»\n",
    "- `date` - дата совершения поездки\n",
    "\n",
    "Подписки — `subscriptions_go.csv`\n",
    "\n",
    "- `subscription_type` - тип подписки\n",
    "- `minute_price` - стоимость одной минуты поездки по данной подписке\n",
    "- `start_ride_price` - стоимость начала поездки\n",
    "- `subscription_fee` - стоимость ежемесячного платежа"
   ]
  },
  {
   "cell_type": "markdown",
   "id": "0fa950cd",
   "metadata": {},
   "source": [
    "**План работы**\n",
    "\n",
    "1. Загрузка данных\n",
    "2. Предобработка данных\n",
    "3. Исследовательский анализ данных\n",
    "4. Объединение данных\n",
    "5. Подсчёт выручки\n",
    "6. Проверка гипотез\n",
    "7. Распределения"
   ]
  },
  {
   "cell_type": "markdown",
   "id": "839c26e3",
   "metadata": {},
   "source": [
    "**Импортируем библиотеки:**"
   ]
  },
  {
   "cell_type": "code",
   "execution_count": 1,
   "id": "72576667",
   "metadata": {},
   "outputs": [],
   "source": [
    "import pandas as pd\n",
    "import matplotlib.pyplot as plt\n",
    "import numpy as np\n",
    "from scipy import stats as st\n",
    "from scipy.stats import binom"
   ]
  },
  {
   "cell_type": "markdown",
   "id": "c42cbe00",
   "metadata": {},
   "source": [
    "### Загрузка данных"
   ]
  },
  {
   "cell_type": "markdown",
   "id": "e2762e37",
   "metadata": {},
   "source": [
    "#### Считаем файлы с данными. Задаём переменные и отображаем первые строки:"
   ]
  },
  {
   "cell_type": "code",
   "execution_count": 2,
   "id": "eff9f206",
   "metadata": {
    "scrolled": false
   },
   "outputs": [
    {
     "name": "stdout",
     "output_type": "stream",
     "text": [
      "Таблица users_go: \n",
      "\n",
      "    user_id        name  age            city subscription_type\n",
      "0        1        Кира   22          Тюмень             ultra\n",
      "1        2   Станислав   31            Омск             ultra\n",
      "2        3     Алексей   20          Москва             ultra\n",
      "3        4  Константин   26  Ростов-на-Дону             ultra\n",
      "4        5       Адель   28            Омск             ultra \n",
      "\n",
      "Таблица rides_go: \n",
      "\n",
      "    user_id     distance   duration        date\n",
      "0        1  4409.919140  25.599769  2021-01-01\n",
      "1        1  2617.592153  15.816871  2021-01-18\n",
      "2        1   754.159807   6.232113  2021-04-20\n",
      "3        1  2694.783254  18.511000  2021-08-11\n",
      "4        1  4028.687306  26.265803  2021-08-28 \n",
      "\n",
      "Таблица subscriptions_go: \n",
      "\n",
      "   subscription_type  minute_price  start_ride_price  subscription_fee\n",
      "0              free             8                50                 0\n",
      "1             ultra             6                 0               199 \n",
      "\n"
     ]
    }
   ],
   "source": [
    "users_go = pd.read_csv('/datasets/users_go.csv')\n",
    "print('Таблица users_go: \\n\\n', users_go.head(), '\\n')\n",
    "\n",
    "rides_go = pd.read_csv('/datasets/rides_go.csv')\n",
    "print('Таблица rides_go: \\n\\n', rides_go.head(), '\\n')\n",
    "\n",
    "subscriptions_go = pd.read_csv('/datasets/subscriptions_go.csv')\n",
    "print('Таблица subscriptions_go: \\n\\n', subscriptions_go, '\\n')"
   ]
  },
  {
   "cell_type": "markdown",
   "id": "24ea3d01",
   "metadata": {},
   "source": [
    "#### Изучаем общую информацию о каждом датафрейме:"
   ]
  },
  {
   "cell_type": "code",
   "execution_count": 3,
   "id": "94085761",
   "metadata": {
    "scrolled": true
   },
   "outputs": [
    {
     "name": "stdout",
     "output_type": "stream",
     "text": [
      "<class 'pandas.core.frame.DataFrame'>\n",
      "RangeIndex: 1565 entries, 0 to 1564\n",
      "Data columns (total 5 columns):\n",
      " #   Column             Non-Null Count  Dtype \n",
      "---  ------             --------------  ----- \n",
      " 0   user_id            1565 non-null   int64 \n",
      " 1   name               1565 non-null   object\n",
      " 2   age                1565 non-null   int64 \n",
      " 3   city               1565 non-null   object\n",
      " 4   subscription_type  1565 non-null   object\n",
      "dtypes: int64(2), object(3)\n",
      "memory usage: 61.3+ KB\n",
      "None\n",
      "Количество явных дубликатов в `users_go.csv` =  31\n",
      "<class 'pandas.core.frame.DataFrame'>\n",
      "RangeIndex: 18068 entries, 0 to 18067\n",
      "Data columns (total 4 columns):\n",
      " #   Column    Non-Null Count  Dtype  \n",
      "---  ------    --------------  -----  \n",
      " 0   user_id   18068 non-null  int64  \n",
      " 1   distance  18068 non-null  float64\n",
      " 2   duration  18068 non-null  float64\n",
      " 3   date      18068 non-null  object \n",
      "dtypes: float64(2), int64(1), object(1)\n",
      "memory usage: 564.8+ KB\n",
      "None\n",
      "Количество явных дубликатов в `rides_go.csv` =  0\n",
      "<class 'pandas.core.frame.DataFrame'>\n",
      "RangeIndex: 2 entries, 0 to 1\n",
      "Data columns (total 4 columns):\n",
      " #   Column             Non-Null Count  Dtype \n",
      "---  ------             --------------  ----- \n",
      " 0   subscription_type  2 non-null      object\n",
      " 1   minute_price       2 non-null      int64 \n",
      " 2   start_ride_price   2 non-null      int64 \n",
      " 3   subscription_fee   2 non-null      int64 \n",
      "dtypes: int64(3), object(1)\n",
      "memory usage: 192.0+ bytes\n",
      "None\n"
     ]
    }
   ],
   "source": [
    "print(users_go.info())\n",
    "print('Количество явных дубликатов в `users_go.csv` = ', users_go.duplicated().sum())\n",
    "print(rides_go.info())\n",
    "print('Количество явных дубликатов в `rides_go.csv` = ', rides_go.duplicated().sum())\n",
    "print(subscriptions_go.info())"
   ]
  },
  {
   "cell_type": "markdown",
   "id": "4ff248cc",
   "metadata": {},
   "source": [
    "Строим гистограммы значимых фреймов данных:"
   ]
  },
  {
   "cell_type": "code",
   "execution_count": 4,
   "id": "830cbc2c",
   "metadata": {
    "scrolled": true
   },
   "outputs": [
    {
     "data": {
      "image/png": "[encoded data removed]",
      "text/plain": [
       "<Figure size 432x288 with 1 Axes>"
      ]
     },
     "metadata": {
      "needs_background": "light"
     },
     "output_type": "display_data"
    },
    {
     "data": {
      "image/png": "[encoded data removed]",
      "text/plain": [
       "<Figure size 432x288 with 1 Axes>"
      ]
     },
     "metadata": {
      "needs_background": "light"
     },
     "output_type": "display_data"
    },
    {
     "data": {
      "image/png": "[encoded data removed]",
      "text/plain": [
       "<Figure size 432x288 with 1 Axes>"
      ]
     },
     "metadata": {
      "needs_background": "light"
     },
     "output_type": "display_data"
    },
    {
     "data": {
      "image/png": "[encoded data removed]",
      "text/plain": [
       "<Figure size 432x288 with 1 Axes>"
      ]
     },
     "metadata": {
      "needs_background": "light"
     },
     "output_type": "display_data"
    }
   ],
   "source": [
    "plt.hist(users_go['age'], bins=100)\n",
    "plt.title('age')\n",
    "plt.xlabel('Возраст (лет)')\n",
    "plt.ylabel('Количество')\n",
    "plt.show()\n",
    "\n",
    "plt.hist(rides_go['distance'], bins=100)\n",
    "plt.title('distance')\n",
    "plt.xlabel('Расстояние (метров)')\n",
    "plt.ylabel('Количество')\n",
    "plt.show()\n",
    "\n",
    "plt.hist(rides_go['duration'], bins=100)\n",
    "plt.title('duration')\n",
    "plt.xlabel('Продолжительность (минут)')\n",
    "plt.ylabel('Количество')\n",
    "plt.show()\n",
    "\n",
    "plt.hist(rides_go['date'], bins=12)\n",
    "plt.title('date')\n",
    "plt.xlabel('Дата')\n",
    "plt.xticks(rotation=90)\n",
    "plt.ylabel('Количество')\n",
    "plt.show()"
   ]
  },
  {
   "cell_type": "markdown",
   "id": "8f1ea98d",
   "metadata": {},
   "source": [
    "Вывод:\n",
    "\n",
    "В данных \"users_go\" 1565 записи, пропуски отсутствуют, количество явных дубликатов 31.\\\n",
    "В данных \"rides_go\" 18068 записи, пропуски отсутствуют, явных дубликатов нет.\\\n",
    "В данных \"subscriptions_go\" 2 записи, пропуски отсутствуют, явных дубликатов нет. Названия столбцов в норме.\\\n",
    "Данные признаны полными и достаточными для исследования."
   ]
  },
  {
   "cell_type": "markdown",
   "id": "e95ebca7",
   "metadata": {},
   "source": [
    "### Предобработка данных"
   ]
  },
  {
   "cell_type": "markdown",
   "id": "2f7937d1",
   "metadata": {},
   "source": [
    "Корректировка типов данных столбцов:"
   ]
  },
  {
   "cell_type": "code",
   "execution_count": 5,
   "id": "b826263e",
   "metadata": {},
   "outputs": [],
   "source": [
    "users_go['user_id'] = users_go['user_id'].astype('uint16')\n",
    "users_go['age'] = users_go['age'].astype('uint8')\n",
    "users_go.loc[users_go['subscription_type'] == 'ultra', 'subscription_type'] = True # 'ultra'\n",
    "users_go.loc[users_go['subscription_type'] == 'free', 'subscription_type'] = False # 'free'\n",
    "users_go['subscription_type'] = users_go['subscription_type'].astype('bool')"
   ]
  },
  {
   "cell_type": "code",
   "execution_count": 6,
   "id": "519f96cf",
   "metadata": {},
   "outputs": [],
   "source": [
    "rides_go['date'] = pd.to_datetime(rides_go['date'], format='%Y-%m-%d')"
   ]
  },
  {
   "cell_type": "code",
   "execution_count": 7,
   "id": "d7404ee8",
   "metadata": {},
   "outputs": [],
   "source": [
    "subscriptions_go.loc[subscriptions_go['subscription_type'] == 'ultra', 'subscription_type'] = True # 'ultra'\n",
    "subscriptions_go.loc[subscriptions_go['subscription_type'] == 'free', 'subscription_type'] = False # 'free'\n",
    "subscriptions_go['subscription_type'] = subscriptions_go['subscription_type'].astype('bool')\n",
    "for i in ['minute_price', 'start_ride_price', 'subscription_fee']:\n",
    "    subscriptions_go[i] = subscriptions_go[i].astype('uint8')"
   ]
  },
  {
   "cell_type": "markdown",
   "id": "75d7dc75",
   "metadata": {},
   "source": [
    "Добавление столбцов:"
   ]
  },
  {
   "cell_type": "code",
   "execution_count": 8,
   "id": "451243ca",
   "metadata": {},
   "outputs": [],
   "source": [
    "rides_go['month'] = pd.DatetimeIndex(rides_go['date']).month"
   ]
  },
  {
   "cell_type": "markdown",
   "id": "e280d022",
   "metadata": {},
   "source": [
    " Обработка неявных дубликатов:"
   ]
  },
  {
   "cell_type": "code",
   "execution_count": 9,
   "id": "225fa8b6",
   "metadata": {},
   "outputs": [],
   "source": [
    "users_go = users_go.sort_values(by='user_id').loc[users_go['user_id'].duplicated() == False]"
   ]
  },
  {
   "cell_type": "code",
   "execution_count": 10,
   "id": "a721c851",
   "metadata": {},
   "outputs": [
    {
     "data": {
      "text/plain": [
       "user_id              0\n",
       "name                 0\n",
       "age                  0\n",
       "city                 0\n",
       "subscription_type    0\n",
       "dtype: int64"
      ]
     },
     "execution_count": 10,
     "metadata": {},
     "output_type": "execute_result"
    }
   ],
   "source": [
    "users_go.sort_values(by='user_id').loc[users_go['user_id'].duplicated() == True].count()"
   ]
  },
  {
   "cell_type": "markdown",
   "id": "86a0ac90",
   "metadata": {},
   "source": [
    "Строки с дубликатами в поле 'user_id' удалены из 'users_go'."
   ]
  },
  {
   "cell_type": "markdown",
   "id": "df21be4e",
   "metadata": {},
   "source": [
    "Проверка результатов предобработки данных:"
   ]
  },
  {
   "cell_type": "code",
   "execution_count": 11,
   "id": "1f9f5bb4",
   "metadata": {},
   "outputs": [
    {
     "name": "stdout",
     "output_type": "stream",
     "text": [
      "<class 'pandas.core.frame.DataFrame'>\n",
      "Int64Index: 1534 entries, 0 to 1533\n",
      "Data columns (total 5 columns):\n",
      " #   Column             Non-Null Count  Dtype \n",
      "---  ------             --------------  ----- \n",
      " 0   user_id            1534 non-null   uint16\n",
      " 1   name               1534 non-null   object\n",
      " 2   age                1534 non-null   uint8 \n",
      " 3   city               1534 non-null   object\n",
      " 4   subscription_type  1534 non-null   bool  \n",
      "dtypes: bool(1), object(2), uint16(1), uint8(1)\n",
      "memory usage: 41.9+ KB\n"
     ]
    },
    {
     "data": {
      "text/html": [
       "<div>\n",
       "<style scoped>\n",
       "    .dataframe tbody tr th:only-of-type {\n",
       "        vertical-align: middle;\n",
       "    }\n",
       "\n",
       "    .dataframe tbody tr th {\n",
       "        vertical-align: top;\n",
       "    }\n",
       "\n",
       "    .dataframe thead th {\n",
       "        text-align: right;\n",
       "    }\n",
       "</style>\n",
       "<table border=\"1\" class=\"dataframe\">\n",
       "  <thead>\n",
       "    <tr style=\"text-align: right;\">\n",
       "      <th></th>\n",
       "      <th>user_id</th>\n",
       "      <th>name</th>\n",
       "      <th>age</th>\n",
       "      <th>city</th>\n",
       "      <th>subscription_type</th>\n",
       "    </tr>\n",
       "  </thead>\n",
       "  <tbody>\n",
       "    <tr>\n",
       "      <th>0</th>\n",
       "      <td>1</td>\n",
       "      <td>Кира</td>\n",
       "      <td>22</td>\n",
       "      <td>Тюмень</td>\n",
       "      <td>True</td>\n",
       "    </tr>\n",
       "    <tr>\n",
       "      <th>1</th>\n",
       "      <td>2</td>\n",
       "      <td>Станислав</td>\n",
       "      <td>31</td>\n",
       "      <td>Омск</td>\n",
       "      <td>True</td>\n",
       "    </tr>\n",
       "    <tr>\n",
       "      <th>2</th>\n",
       "      <td>3</td>\n",
       "      <td>Алексей</td>\n",
       "      <td>20</td>\n",
       "      <td>Москва</td>\n",
       "      <td>True</td>\n",
       "    </tr>\n",
       "    <tr>\n",
       "      <th>3</th>\n",
       "      <td>4</td>\n",
       "      <td>Константин</td>\n",
       "      <td>26</td>\n",
       "      <td>Ростов-на-Дону</td>\n",
       "      <td>True</td>\n",
       "    </tr>\n",
       "    <tr>\n",
       "      <th>4</th>\n",
       "      <td>5</td>\n",
       "      <td>Адель</td>\n",
       "      <td>28</td>\n",
       "      <td>Омск</td>\n",
       "      <td>True</td>\n",
       "    </tr>\n",
       "  </tbody>\n",
       "</table>\n",
       "</div>"
      ],
      "text/plain": [
       "   user_id        name  age            city  subscription_type\n",
       "0        1        Кира   22          Тюмень               True\n",
       "1        2   Станислав   31            Омск               True\n",
       "2        3     Алексей   20          Москва               True\n",
       "3        4  Константин   26  Ростов-на-Дону               True\n",
       "4        5       Адель   28            Омск               True"
      ]
     },
     "execution_count": 11,
     "metadata": {},
     "output_type": "execute_result"
    }
   ],
   "source": [
    "users_go.info()\n",
    "users_go.head()"
   ]
  },
  {
   "cell_type": "markdown",
   "id": "e60e4635",
   "metadata": {},
   "source": [
    "Предобработка датафрейма сократила количество строк в нем с 1565 до 1534."
   ]
  },
  {
   "cell_type": "markdown",
   "id": "928c89e5",
   "metadata": {},
   "source": [
    "Датафейм \"rides_go\":"
   ]
  },
  {
   "cell_type": "code",
   "execution_count": 12,
   "id": "bff643de",
   "metadata": {},
   "outputs": [],
   "source": [
    "rides_go['duration'] = np.ceil(rides_go['duration']).astype('int')"
   ]
  },
  {
   "cell_type": "code",
   "execution_count": 13,
   "id": "e88cd9ec",
   "metadata": {},
   "outputs": [
    {
     "name": "stdout",
     "output_type": "stream",
     "text": [
      "<class 'pandas.core.frame.DataFrame'>\n",
      "RangeIndex: 18068 entries, 0 to 18067\n",
      "Data columns (total 5 columns):\n",
      " #   Column    Non-Null Count  Dtype         \n",
      "---  ------    --------------  -----         \n",
      " 0   user_id   18068 non-null  int64         \n",
      " 1   distance  18068 non-null  float64       \n",
      " 2   duration  18068 non-null  int64         \n",
      " 3   date      18068 non-null  datetime64[ns]\n",
      " 4   month     18068 non-null  int64         \n",
      "dtypes: datetime64[ns](1), float64(1), int64(3)\n",
      "memory usage: 705.9 KB\n",
      "None\n",
      "\n",
      "   user_id     distance  duration       date  month\n",
      "0        1  4409.919140        26 2021-01-01      1\n",
      "1        1  2617.592153        16 2021-01-18      1\n",
      "2        1   754.159807         7 2021-04-20      4\n",
      "3        1  2694.783254        19 2021-08-11      8\n",
      "4        1  4028.687306        27 2021-08-28      8\n",
      "\n",
      "            user_id      distance      duration         month\n",
      "count  18068.000000  18068.000000  18068.000000  18068.000000\n",
      "mean     842.869936   3070.659976     18.303520      6.486772\n",
      "std      434.734317   1116.831209      6.094928      3.437410\n",
      "min        1.000000      0.855683      1.000000      1.000000\n",
      "25%      487.000000   2543.226360     14.000000      4.000000\n",
      "50%      889.000000   3133.609994     18.000000      6.000000\n",
      "75%     1213.250000   3776.222735     22.000000      9.000000\n",
      "max     1534.000000   7211.007745     41.000000     12.000000\n",
      "\n",
      "Анализ дат:\n",
      "Минимальная дата : 2021-01-01 00:00:00\n",
      "Максимальная дата: 2021-12-30 00:00:00\n"
     ]
    }
   ],
   "source": [
    "print(rides_go.info())\n",
    "print()\n",
    "print(rides_go.head())\n",
    "print()\n",
    "print(rides_go.describe())\n",
    "print()\n",
    "print('Анализ дат:')\n",
    "print('Минимальная дата :', rides_go['date'].min())\n",
    "print('Максимальная дата:', rides_go['date'].max())"
   ]
  },
  {
   "cell_type": "raw",
   "id": "24a52cce",
   "metadata": {},
   "source": [
    "В процессе предобработки данных в датафрейме \"rides_go\" был добавлен столбец \"month\" и изменены типы данных столбцов. Также проверены данные в столбце с датами. Диапазон дат с 01.01.2021 по 30.12.2021."
   ]
  },
  {
   "cell_type": "markdown",
   "id": "96ac6e57",
   "metadata": {},
   "source": [
    "Датафейм \"subscriptions_go\":"
   ]
  },
  {
   "cell_type": "code",
   "execution_count": 14,
   "id": "b73e6b22",
   "metadata": {},
   "outputs": [
    {
     "name": "stdout",
     "output_type": "stream",
     "text": [
      "<class 'pandas.core.frame.DataFrame'>\n",
      "RangeIndex: 2 entries, 0 to 1\n",
      "Data columns (total 4 columns):\n",
      " #   Column             Non-Null Count  Dtype\n",
      "---  ------             --------------  -----\n",
      " 0   subscription_type  2 non-null      bool \n",
      " 1   minute_price       2 non-null      uint8\n",
      " 2   start_ride_price   2 non-null      uint8\n",
      " 3   subscription_fee   2 non-null      uint8\n",
      "dtypes: bool(1), uint8(3)\n",
      "memory usage: 136.0 bytes\n"
     ]
    },
    {
     "data": {
      "text/html": [
       "<div>\n",
       "<style scoped>\n",
       "    .dataframe tbody tr th:only-of-type {\n",
       "        vertical-align: middle;\n",
       "    }\n",
       "\n",
       "    .dataframe tbody tr th {\n",
       "        vertical-align: top;\n",
       "    }\n",
       "\n",
       "    .dataframe thead th {\n",
       "        text-align: right;\n",
       "    }\n",
       "</style>\n",
       "<table border=\"1\" class=\"dataframe\">\n",
       "  <thead>\n",
       "    <tr style=\"text-align: right;\">\n",
       "      <th></th>\n",
       "      <th>subscription_type</th>\n",
       "      <th>minute_price</th>\n",
       "      <th>start_ride_price</th>\n",
       "      <th>subscription_fee</th>\n",
       "    </tr>\n",
       "  </thead>\n",
       "  <tbody>\n",
       "    <tr>\n",
       "      <th>0</th>\n",
       "      <td>False</td>\n",
       "      <td>8</td>\n",
       "      <td>50</td>\n",
       "      <td>0</td>\n",
       "    </tr>\n",
       "    <tr>\n",
       "      <th>1</th>\n",
       "      <td>True</td>\n",
       "      <td>6</td>\n",
       "      <td>0</td>\n",
       "      <td>199</td>\n",
       "    </tr>\n",
       "  </tbody>\n",
       "</table>\n",
       "</div>"
      ],
      "text/plain": [
       "   subscription_type  minute_price  start_ride_price  subscription_fee\n",
       "0              False             8                50                 0\n",
       "1               True             6                 0               199"
      ]
     },
     "execution_count": 14,
     "metadata": {},
     "output_type": "execute_result"
    }
   ],
   "source": [
    "subscriptions_go.info()\n",
    "subscriptions_go.head()"
   ]
  },
  {
   "cell_type": "markdown",
   "id": "b7a09cba",
   "metadata": {},
   "source": [
    "Предобработка \"subscriptions_go\" не требуется."
   ]
  },
  {
   "cell_type": "markdown",
   "id": "d19244f3",
   "metadata": {},
   "source": [
    "Вывод проведения предобработки данных:\n",
    "\n",
    "В данных \"users_go\":\\\n",
    "Удалили дубликаты\n",
    "\n",
    "В данных \"rides_go\":\\\n",
    "Округлили \"duration\" до целых вверх и перевели в int.\\\n",
    "Привели столбец \"date\" к типу \"datetime64\".\\\n",
    "Создали столбец \"month\" с номером месяца из \"date\"\n",
    "\n",
    "В данных \"subscriptions_go\" ничего не меняли."
   ]
  },
  {
   "cell_type": "markdown",
   "id": "212593c7",
   "metadata": {},
   "source": [
    "### Исследовательский анализ данных"
   ]
  },
  {
   "cell_type": "markdown",
   "id": "f041cdbc",
   "metadata": {},
   "source": [
    "#### Частота встречаемости городов в выборке:"
   ]
  },
  {
   "cell_type": "code",
   "execution_count": 15,
   "id": "e3a4274c",
   "metadata": {
    "scrolled": true
   },
   "outputs": [
    {
     "data": {
      "image/png": "[encoded data removed]",
      "text/plain": [
       "<Figure size 720x360 with 1 Axes>"
      ]
     },
     "metadata": {
      "needs_background": "light"
     },
     "output_type": "display_data"
    },
    {
     "name": "stdout",
     "output_type": "stream",
     "text": [
      "Количество пользователей по городам \n"
     ]
    },
    {
     "data": {
      "text/html": [
       "<div>\n",
       "<style scoped>\n",
       "    .dataframe tbody tr th:only-of-type {\n",
       "        vertical-align: middle;\n",
       "    }\n",
       "\n",
       "    .dataframe tbody tr th {\n",
       "        vertical-align: top;\n",
       "    }\n",
       "\n",
       "    .dataframe thead th {\n",
       "        text-align: right;\n",
       "    }\n",
       "</style>\n",
       "<table border=\"1\" class=\"dataframe\">\n",
       "  <thead>\n",
       "    <tr style=\"text-align: right;\">\n",
       "      <th></th>\n",
       "      <th>user_id</th>\n",
       "    </tr>\n",
       "    <tr>\n",
       "      <th>city</th>\n",
       "      <th></th>\n",
       "    </tr>\n",
       "  </thead>\n",
       "  <tbody>\n",
       "    <tr>\n",
       "      <th>Пятигорск</th>\n",
       "      <td>219</td>\n",
       "    </tr>\n",
       "    <tr>\n",
       "      <th>Екатеринбург</th>\n",
       "      <td>204</td>\n",
       "    </tr>\n",
       "    <tr>\n",
       "      <th>Ростов-на-Дону</th>\n",
       "      <td>198</td>\n",
       "    </tr>\n",
       "    <tr>\n",
       "      <th>Краснодар</th>\n",
       "      <td>193</td>\n",
       "    </tr>\n",
       "    <tr>\n",
       "      <th>Сочи</th>\n",
       "      <td>189</td>\n",
       "    </tr>\n",
       "    <tr>\n",
       "      <th>Омск</th>\n",
       "      <td>183</td>\n",
       "    </tr>\n",
       "    <tr>\n",
       "      <th>Тюмень</th>\n",
       "      <td>180</td>\n",
       "    </tr>\n",
       "    <tr>\n",
       "      <th>Москва</th>\n",
       "      <td>168</td>\n",
       "    </tr>\n",
       "  </tbody>\n",
       "</table>\n",
       "</div>"
      ],
      "text/plain": [
       "                user_id\n",
       "city                   \n",
       "Пятигорск           219\n",
       "Екатеринбург        204\n",
       "Ростов-на-Дону      198\n",
       "Краснодар           193\n",
       "Сочи                189\n",
       "Омск                183\n",
       "Тюмень              180\n",
       "Москва              168"
      ]
     },
     "execution_count": 15,
     "metadata": {},
     "output_type": "execute_result"
    }
   ],
   "source": [
    "(\n",
    "    users_go.pivot_table(index='city', values='user_id', aggfunc='count').sort_values(by='user_id', ascending=True)\n",
    "    .plot(kind='barh', grid=True, figsize=(10, 5))\n",
    ")\n",
    "plt.title('Количество пользователей по городам')\n",
    "plt.ylabel('Города')\n",
    "plt.xlabel('Количество пользователей')\n",
    "\n",
    "plt.show()\n",
    "print('Количество пользователей по городам ') \n",
    "users_go.pivot_table(index='city', values='user_id', aggfunc='count').sort_values(by='user_id', ascending=False)"
   ]
  },
  {
   "cell_type": "markdown",
   "id": "812e6a8e",
   "metadata": {},
   "source": [
    "Вывод:\n",
    "\n",
    "Визуализация и сортировка количества пользователей по городам указывает, что первенство держит город Пятигорск за ним Екатеринбург и Ростов-на-Дону. Замечено, что в первой половине располагаются в основном южные города, где сезон проката больше. Исключение составляет г.Екатеринбург, находящийся на 2 позиции."
   ]
  },
  {
   "cell_type": "markdown",
   "id": "0014ee5b",
   "metadata": {},
   "source": [
    "#### Соотношение пользователей с подпиской и без подписки:"
   ]
  },
  {
   "cell_type": "code",
   "execution_count": 16,
   "id": "b5778ad4",
   "metadata": {
    "scrolled": true
   },
   "outputs": [
    {
     "data": {
      "image/png": "[encoded data removed]",
      "text/plain": [
       "<Figure size 504x504 with 1 Axes>"
      ]
     },
     "metadata": {},
     "output_type": "display_data"
    }
   ],
   "source": [
    "(\n",
    "    users_go.pivot_table(index='subscription_type', values='user_id', aggfunc='count')\n",
    "    .plot.pie(y='user_id', figsize=(7,7),  label='Количество пользователей', \n",
    "    autopct='%1.1f%%', startangle=45,\n",
    "    title='Соотношение пользователей \"free\" - без подписки и \"ultra\" - с подпиской к общему количеству')\n",
    "\n",
    ")\n",
    "plt.axis('equal')\n",
    "plt.show()"
   ]
  },
  {
   "cell_type": "markdown",
   "id": "f61f8aa0",
   "metadata": {},
   "source": [
    "Вывод:\n",
    "\n",
    "Количество пользователей без подписки (54,4%) превышает количество пользователей с подпиской (45,6%)."
   ]
  },
  {
   "cell_type": "markdown",
   "id": "68a16045",
   "metadata": {},
   "source": [
    "#### Возраст пользователей:"
   ]
  },
  {
   "cell_type": "code",
   "execution_count": 17,
   "id": "48c87da4",
   "metadata": {
    "scrolled": false
   },
   "outputs": [
    {
     "data": {
      "image/png": "[encoded data removed]",
      "text/plain": [
       "<Figure size 720x360 with 1 Axes>"
      ]
     },
     "metadata": {
      "needs_background": "light"
     },
     "output_type": "display_data"
    }
   ],
   "source": [
    "(\n",
    "    users_go.pivot_table(index='age', values='user_id', aggfunc='count').sort_values(by='age', ascending=True)\n",
    "    .plot(kind='bar' , grid=True, figsize=(10, 5))\n",
    ")\n",
    "plt.title('Количество пользователей по возрастам')\n",
    "plt.xlabel('Возраст')\n",
    "plt.ylabel('Количество')\n",
    "plt.show()"
   ]
  },
  {
   "cell_type": "code",
   "execution_count": 18,
   "id": "a8cec5b9",
   "metadata": {},
   "outputs": [
    {
     "name": "stdout",
     "output_type": "stream",
     "text": [
      "Среднее значение возраста пользователей 24.9\n"
     ]
    },
    {
     "data": {
      "text/plain": [
       "count    1534.000000\n",
       "mean       24.903520\n",
       "std         4.572367\n",
       "min        12.000000\n",
       "25%        22.000000\n",
       "50%        25.000000\n",
       "75%        28.000000\n",
       "max        43.000000\n",
       "Name: age, dtype: float64"
      ]
     },
     "execution_count": 18,
     "metadata": {},
     "output_type": "execute_result"
    }
   ],
   "source": [
    "print('Среднее значение возраста пользователей', users_go['age'].mean().round(1))\n",
    "users_go['age'].describe()"
   ]
  },
  {
   "cell_type": "markdown",
   "id": "97f2f7c0",
   "metadata": {},
   "source": [
    "Вывод:\n",
    "\n",
    "Визуализация количества пользователей в зависимости от возраста указывает, что средний возраст потребителя услуги подчиняется нормальному распределению с медианой примерно в 25 лет. При этом средний возраст и медиана практически совпадают."
   ]
  },
  {
   "cell_type": "markdown",
   "id": "5a0a0986",
   "metadata": {},
   "source": [
    "#### Расстояние, которое пользователь преодолел за одну поездку:"
   ]
  },
  {
   "cell_type": "code",
   "execution_count": 19,
   "id": "1c2850d1",
   "metadata": {
    "scrolled": true
   },
   "outputs": [
    {
     "data": {
      "text/plain": [
       "count    18068.000000\n",
       "mean      3070.659976\n",
       "std       1116.831209\n",
       "min          0.855683\n",
       "25%       2543.226360\n",
       "50%       3133.609994\n",
       "75%       3776.222735\n",
       "max       7211.007745\n",
       "Name: distance, dtype: float64"
      ]
     },
     "execution_count": 19,
     "metadata": {},
     "output_type": "execute_result"
    }
   ],
   "source": [
    "rides_go['distance'].describe()"
   ]
  },
  {
   "cell_type": "code",
   "execution_count": 20,
   "id": "4d7e0841",
   "metadata": {},
   "outputs": [
    {
     "data": {
      "image/png": "[encoded data removed]",
      "text/plain": [
       "<Figure size 432x288 with 1 Axes>"
      ]
     },
     "metadata": {
      "needs_background": "light"
     },
     "output_type": "display_data"
    }
   ],
   "source": [
    "plt.hist(rides_go['distance'], bins=500, range=(1,7211))\n",
    "plt.title('Количество поездок в зависимости от расстояния поездки')\n",
    "plt.xlabel('Расстояние в метрах')\n",
    "plt.ylabel('Количество поездок')\n",
    "plt.show()"
   ]
  },
  {
   "cell_type": "markdown",
   "id": "44ff7fdf",
   "metadata": {},
   "source": [
    "Вывод:\n",
    "\n",
    "Визуализация количества поездок в зависимости от расстояния указывает, что медиана поездок находится на 3133 метров, первый квартиль находится на значении 2543 метра, третий квартиль на 3776 метров.\\\n",
    "Постороив гистограмму с range=(1,7211), можно заметить второй пик на 700 метрах - следует иметь это ввиду."
   ]
  },
  {
   "cell_type": "markdown",
   "id": "ac97195a",
   "metadata": {},
   "source": [
    "#### Продолжительность поездок:"
   ]
  },
  {
   "cell_type": "code",
   "execution_count": 21,
   "id": "5a7eaa3f",
   "metadata": {
    "scrolled": true
   },
   "outputs": [
    {
     "data": {
      "text/plain": [
       "count    18068.000000\n",
       "mean        18.303520\n",
       "std          6.094928\n",
       "min          1.000000\n",
       "25%         14.000000\n",
       "50%         18.000000\n",
       "75%         22.000000\n",
       "max         41.000000\n",
       "Name: duration, dtype: float64"
      ]
     },
     "execution_count": 21,
     "metadata": {},
     "output_type": "execute_result"
    }
   ],
   "source": [
    "rides_go['duration'].describe()"
   ]
  },
  {
   "cell_type": "code",
   "execution_count": 22,
   "id": "d2e79536",
   "metadata": {
    "scrolled": true
   },
   "outputs": [
    {
     "data": {
      "image/png": "[encoded data removed]",
      "text/plain": [
       "<Figure size 432x288 with 1 Axes>"
      ]
     },
     "metadata": {
      "needs_background": "light"
     },
     "output_type": "display_data"
    }
   ],
   "source": [
    "plt.hist(rides_go['duration'], bins=41, range=(1,41))\n",
    "plt.title('Количество поездок в зависимости от продолжительности')\n",
    "plt.xlabel('Продолжительность поездки')\n",
    "plt.ylabel('Количество поездок')\n",
    "plt.show()"
   ]
  },
  {
   "cell_type": "code",
   "execution_count": 23,
   "id": "febb9ae4",
   "metadata": {
    "scrolled": true
   },
   "outputs": [
    {
     "data": {
      "image/png": "[encoded data removed]",
      "text/plain": [
       "<Figure size 432x288 with 1 Axes>"
      ]
     },
     "metadata": {
      "needs_background": "light"
     },
     "output_type": "display_data"
    },
    {
     "data": {
      "image/png": "[encoded data removed]",
      "text/plain": [
       "<Figure size 432x288 with 1 Axes>"
      ]
     },
     "metadata": {
      "needs_background": "light"
     },
     "output_type": "display_data"
    },
    {
     "name": "stdout",
     "output_type": "stream",
     "text": [
      "Максимальная скорость перемещения (метр/мин) 7211.007744598519\n"
     ]
    }
   ],
   "source": [
    "plt.hist(rides_go['distance'] / rides_go['duration'])\n",
    "plt.title('Количество поездок с определенной скоростью')\n",
    "plt.xlabel('Рассояние / Время (Метр/Мин)')\n",
    "plt.ylabel('Количество поездок')\n",
    "plt.show()\n",
    "\n",
    "plt.hist(rides_go['distance'] / rides_go['duration'], bins=100, range=(1000,7000))\n",
    "plt.title('Количество поездок с определенной скоростью')\n",
    "plt.xlabel('Рассояние / Время (Метр/Мин)')\n",
    "plt.ylabel('Количество поездок')\n",
    "plt.show()\n",
    "\n",
    "print('Максимальная скорость перемещения (метр/мин)', (rides_go['distance'] / rides_go['duration']).max())"
   ]
  },
  {
   "cell_type": "markdown",
   "id": "97ec0736",
   "metadata": {},
   "source": [
    "Вывод:\n",
    "\n",
    "Визуализация количества поездок в зависимости от продолжительности указывает, что медиана поездок находится на 18 мин, первый квартиль находится на значении 14 мин, третий квартиль на 22 мин.\\\n",
    "На гисторгамме замечено аномальное время поездок порядка 100 с временем менее 1 минуты. Построенные гисторгаммы указывают, что в столбце времени присутствуют аномалии.\\\n",
    "Расчет средней скорости перемещения указывает, что в некоторых случаях самокаты перемещались со средней скоростью от 4000 до 7211,01 метров/мин, но это практически невозможно.\\\n",
    "Пока такие значения оставим без изменения."
   ]
  },
  {
   "cell_type": "markdown",
   "id": "c0a6b59c",
   "metadata": {},
   "source": [
    "Вывод по исследовательскму анализу:\n",
    "\n",
    "1. Визуализация и сортировка количества пользователей по городам указывает, что первенство держит город Пятигорск за ним Екатеринбург и Ростов-на-Дону. Замечено, что в первой половине располагаются в основном южные города, где сезон проката больше. Исключение составляет г.Екатеринбург, находящийся на 2 позиции.\n",
    "2. Количество пользователей без подписки (54,4%) превышает количество пользователей с подпиской (45,6%).\n",
    "3. Визуализация количества пользователей в зависимости от возраста указывает, что средний возраст потребителя услуги подчиняется нормальному распределению с медианой примерно в 25 лет. При этом средний возраст и медиана практически совпадают.\n",
    "4. Визуализация количества поездок в зависимости от расстояния указывает, что медиана поездок находится на 3133 метров, первый квартиль находится на значении 2543 метра, третий квартиль на 3776 метров.\n",
    "Постороив гистограмму с range=(1,7211), можно заметить второй пик на 700 метрах - следует иметь это ввиду.\n",
    "5. Визуализация количества поездок в зависимости от продолжительности указывает, что медиана поездок находится на 18 мин, первый квартиль находится на значении 14 мин, третий квартиль на 22 мин.\n",
    "На гисторгамме замечено аномальное время поездок порядка 100 с временем менее 1 минуты. Построенные гисторгаммы указывают, что в столбце времени присутствуют аномалии.\n",
    "Расчет средней скорости перемещения указывает, что в некоторых случаях самокаты перемещались со средней скоростью от 4000 до 7211,01 метров/мин, но это практически невозможно.\n",
    "Пока такие значения оставим без изменения."
   ]
  },
  {
   "cell_type": "markdown",
   "id": "4ef51331",
   "metadata": {},
   "source": [
    "### Объединение данных"
   ]
  },
  {
   "cell_type": "markdown",
   "id": "1b6a8b27",
   "metadata": {},
   "source": [
    "#### Объединим данные о пользователях, поездках и подписках в один датафрейм. Для этого воспользуйтесь методом merge():"
   ]
  },
  {
   "cell_type": "markdown",
   "id": "0cfefd2b",
   "metadata": {},
   "source": [
    "Общая таблица с данными:"
   ]
  },
  {
   "cell_type": "code",
   "execution_count": 24,
   "id": "6bf288b5",
   "metadata": {},
   "outputs": [],
   "source": [
    "df = users_go.merge(rides_go, on='user_id').merge(subscriptions_go, on='subscription_type')"
   ]
  },
  {
   "cell_type": "code",
   "execution_count": 25,
   "id": "17672d54",
   "metadata": {
    "scrolled": true
   },
   "outputs": [
    {
     "data": {
      "text/html": [
       "<div>\n",
       "<style scoped>\n",
       "    .dataframe tbody tr th:only-of-type {\n",
       "        vertical-align: middle;\n",
       "    }\n",
       "\n",
       "    .dataframe tbody tr th {\n",
       "        vertical-align: top;\n",
       "    }\n",
       "\n",
       "    .dataframe thead th {\n",
       "        text-align: right;\n",
       "    }\n",
       "</style>\n",
       "<table border=\"1\" class=\"dataframe\">\n",
       "  <thead>\n",
       "    <tr style=\"text-align: right;\">\n",
       "      <th></th>\n",
       "      <th>user_id</th>\n",
       "      <th>name</th>\n",
       "      <th>age</th>\n",
       "      <th>city</th>\n",
       "      <th>subscription_type</th>\n",
       "      <th>distance</th>\n",
       "      <th>duration</th>\n",
       "      <th>date</th>\n",
       "      <th>month</th>\n",
       "      <th>minute_price</th>\n",
       "      <th>start_ride_price</th>\n",
       "      <th>subscription_fee</th>\n",
       "    </tr>\n",
       "  </thead>\n",
       "  <tbody>\n",
       "    <tr>\n",
       "      <th>0</th>\n",
       "      <td>1</td>\n",
       "      <td>Кира</td>\n",
       "      <td>22</td>\n",
       "      <td>Тюмень</td>\n",
       "      <td>True</td>\n",
       "      <td>4409.919140</td>\n",
       "      <td>26</td>\n",
       "      <td>2021-01-01</td>\n",
       "      <td>1</td>\n",
       "      <td>6</td>\n",
       "      <td>0</td>\n",
       "      <td>199</td>\n",
       "    </tr>\n",
       "    <tr>\n",
       "      <th>1</th>\n",
       "      <td>1</td>\n",
       "      <td>Кира</td>\n",
       "      <td>22</td>\n",
       "      <td>Тюмень</td>\n",
       "      <td>True</td>\n",
       "      <td>2617.592153</td>\n",
       "      <td>16</td>\n",
       "      <td>2021-01-18</td>\n",
       "      <td>1</td>\n",
       "      <td>6</td>\n",
       "      <td>0</td>\n",
       "      <td>199</td>\n",
       "    </tr>\n",
       "    <tr>\n",
       "      <th>2</th>\n",
       "      <td>1</td>\n",
       "      <td>Кира</td>\n",
       "      <td>22</td>\n",
       "      <td>Тюмень</td>\n",
       "      <td>True</td>\n",
       "      <td>754.159807</td>\n",
       "      <td>7</td>\n",
       "      <td>2021-04-20</td>\n",
       "      <td>4</td>\n",
       "      <td>6</td>\n",
       "      <td>0</td>\n",
       "      <td>199</td>\n",
       "    </tr>\n",
       "    <tr>\n",
       "      <th>3</th>\n",
       "      <td>1</td>\n",
       "      <td>Кира</td>\n",
       "      <td>22</td>\n",
       "      <td>Тюмень</td>\n",
       "      <td>True</td>\n",
       "      <td>2694.783254</td>\n",
       "      <td>19</td>\n",
       "      <td>2021-08-11</td>\n",
       "      <td>8</td>\n",
       "      <td>6</td>\n",
       "      <td>0</td>\n",
       "      <td>199</td>\n",
       "    </tr>\n",
       "    <tr>\n",
       "      <th>4</th>\n",
       "      <td>1</td>\n",
       "      <td>Кира</td>\n",
       "      <td>22</td>\n",
       "      <td>Тюмень</td>\n",
       "      <td>True</td>\n",
       "      <td>4028.687306</td>\n",
       "      <td>27</td>\n",
       "      <td>2021-08-28</td>\n",
       "      <td>8</td>\n",
       "      <td>6</td>\n",
       "      <td>0</td>\n",
       "      <td>199</td>\n",
       "    </tr>\n",
       "  </tbody>\n",
       "</table>\n",
       "</div>"
      ],
      "text/plain": [
       "   user_id  name  age    city  subscription_type     distance  duration  \\\n",
       "0        1  Кира   22  Тюмень               True  4409.919140        26   \n",
       "1        1  Кира   22  Тюмень               True  2617.592153        16   \n",
       "2        1  Кира   22  Тюмень               True   754.159807         7   \n",
       "3        1  Кира   22  Тюмень               True  2694.783254        19   \n",
       "4        1  Кира   22  Тюмень               True  4028.687306        27   \n",
       "\n",
       "        date  month  minute_price  start_ride_price  subscription_fee  \n",
       "0 2021-01-01      1             6                 0               199  \n",
       "1 2021-01-18      1             6                 0               199  \n",
       "2 2021-04-20      4             6                 0               199  \n",
       "3 2021-08-11      8             6                 0               199  \n",
       "4 2021-08-28      8             6                 0               199  "
      ]
     },
     "execution_count": 25,
     "metadata": {},
     "output_type": "execute_result"
    }
   ],
   "source": [
    "df.head()"
   ]
  },
  {
   "cell_type": "code",
   "execution_count": 26,
   "id": "f74480fe",
   "metadata": {
    "scrolled": true
   },
   "outputs": [
    {
     "name": "stdout",
     "output_type": "stream",
     "text": [
      "Количество строк (поездок) в 'rides_go': 18068\n",
      "Количество строк (поездок) в 'df': 18068\n",
      "\n",
      "Количество уникальных пользователей в 'users_go': 1534\n",
      "Количество уникальных пользователей в 'df': 1534\n"
     ]
    }
   ],
   "source": [
    "print(\"Количество строк (поездок) в 'rides_go':\", rides_go['user_id'].count())\n",
    "print(\"Количество строк (поездок) в 'df':\", df['user_id'].count())\n",
    "print()\n",
    "print(\"Количество уникальных пользователей в 'users_go':\", len(users_go['user_id'].unique()))\n",
    "print(\"Количество уникальных пользователей в 'df':\", len(df['user_id'].unique()))"
   ]
  },
  {
   "cell_type": "markdown",
   "id": "d5f8e41e",
   "metadata": {},
   "source": [
    "Количество строк (записей о поездках) в \"rides_go\" и в \"df\" одинаково и равно 18068.\\\n",
    "Количество уникальных пользователей в \"users_go\" и в \"df\" одинаково и равно 1534.\\\n",
    "Так как исходные датафреймы не содержали пропусков и количество значений в них соответствует количеству в итоговом датафрейме, то последний также не содержит пропусков."
   ]
  },
  {
   "cell_type": "markdown",
   "id": "61cbdcf8",
   "metadata": {},
   "source": [
    "#### Создадим ещё два датафрейма из датафрейма, созданного на предыдущем этапе:"
   ]
  },
  {
   "cell_type": "markdown",
   "id": "455aa2f8",
   "metadata": {},
   "source": [
    "С данными о пользователях без подписки:"
   ]
  },
  {
   "cell_type": "code",
   "execution_count": 27,
   "id": "dd26d3b9",
   "metadata": {},
   "outputs": [
    {
     "data": {
      "text/html": [
       "<div>\n",
       "<style scoped>\n",
       "    .dataframe tbody tr th:only-of-type {\n",
       "        vertical-align: middle;\n",
       "    }\n",
       "\n",
       "    .dataframe tbody tr th {\n",
       "        vertical-align: top;\n",
       "    }\n",
       "\n",
       "    .dataframe thead th {\n",
       "        text-align: right;\n",
       "    }\n",
       "</style>\n",
       "<table border=\"1\" class=\"dataframe\">\n",
       "  <thead>\n",
       "    <tr style=\"text-align: right;\">\n",
       "      <th></th>\n",
       "      <th>user_id</th>\n",
       "      <th>name</th>\n",
       "      <th>age</th>\n",
       "      <th>city</th>\n",
       "      <th>subscription_type</th>\n",
       "      <th>distance</th>\n",
       "      <th>duration</th>\n",
       "      <th>date</th>\n",
       "      <th>month</th>\n",
       "      <th>minute_price</th>\n",
       "      <th>start_ride_price</th>\n",
       "      <th>subscription_fee</th>\n",
       "    </tr>\n",
       "  </thead>\n",
       "  <tbody>\n",
       "    <tr>\n",
       "      <th>6500</th>\n",
       "      <td>700</td>\n",
       "      <td>Айдар</td>\n",
       "      <td>22</td>\n",
       "      <td>Омск</td>\n",
       "      <td>False</td>\n",
       "      <td>2515.690719</td>\n",
       "      <td>15</td>\n",
       "      <td>2021-01-02</td>\n",
       "      <td>1</td>\n",
       "      <td>8</td>\n",
       "      <td>50</td>\n",
       "      <td>0</td>\n",
       "    </tr>\n",
       "    <tr>\n",
       "      <th>6501</th>\n",
       "      <td>700</td>\n",
       "      <td>Айдар</td>\n",
       "      <td>22</td>\n",
       "      <td>Омск</td>\n",
       "      <td>False</td>\n",
       "      <td>846.932642</td>\n",
       "      <td>17</td>\n",
       "      <td>2021-02-01</td>\n",
       "      <td>2</td>\n",
       "      <td>8</td>\n",
       "      <td>50</td>\n",
       "      <td>0</td>\n",
       "    </tr>\n",
       "    <tr>\n",
       "      <th>6502</th>\n",
       "      <td>700</td>\n",
       "      <td>Айдар</td>\n",
       "      <td>22</td>\n",
       "      <td>Омск</td>\n",
       "      <td>False</td>\n",
       "      <td>4004.434142</td>\n",
       "      <td>21</td>\n",
       "      <td>2021-02-04</td>\n",
       "      <td>2</td>\n",
       "      <td>8</td>\n",
       "      <td>50</td>\n",
       "      <td>0</td>\n",
       "    </tr>\n",
       "    <tr>\n",
       "      <th>6503</th>\n",
       "      <td>700</td>\n",
       "      <td>Айдар</td>\n",
       "      <td>22</td>\n",
       "      <td>Омск</td>\n",
       "      <td>False</td>\n",
       "      <td>1205.911290</td>\n",
       "      <td>10</td>\n",
       "      <td>2021-02-10</td>\n",
       "      <td>2</td>\n",
       "      <td>8</td>\n",
       "      <td>50</td>\n",
       "      <td>0</td>\n",
       "    </tr>\n",
       "    <tr>\n",
       "      <th>6504</th>\n",
       "      <td>700</td>\n",
       "      <td>Айдар</td>\n",
       "      <td>22</td>\n",
       "      <td>Омск</td>\n",
       "      <td>False</td>\n",
       "      <td>3047.379435</td>\n",
       "      <td>18</td>\n",
       "      <td>2021-02-14</td>\n",
       "      <td>2</td>\n",
       "      <td>8</td>\n",
       "      <td>50</td>\n",
       "      <td>0</td>\n",
       "    </tr>\n",
       "  </tbody>\n",
       "</table>\n",
       "</div>"
      ],
      "text/plain": [
       "      user_id   name  age  city  subscription_type     distance  duration  \\\n",
       "6500      700  Айдар   22  Омск              False  2515.690719        15   \n",
       "6501      700  Айдар   22  Омск              False   846.932642        17   \n",
       "6502      700  Айдар   22  Омск              False  4004.434142        21   \n",
       "6503      700  Айдар   22  Омск              False  1205.911290        10   \n",
       "6504      700  Айдар   22  Омск              False  3047.379435        18   \n",
       "\n",
       "           date  month  minute_price  start_ride_price  subscription_fee  \n",
       "6500 2021-01-02      1             8                50                 0  \n",
       "6501 2021-02-01      2             8                50                 0  \n",
       "6502 2021-02-04      2             8                50                 0  \n",
       "6503 2021-02-10      2             8                50                 0  \n",
       "6504 2021-02-14      2             8                50                 0  "
      ]
     },
     "execution_count": 27,
     "metadata": {},
     "output_type": "execute_result"
    }
   ],
   "source": [
    "df_free = df.loc[df['subscription_type'] == False]\n",
    "df_free.head()"
   ]
  },
  {
   "cell_type": "markdown",
   "id": "4590b2fb",
   "metadata": {},
   "source": [
    "С данными о пользователях с подпиской:"
   ]
  },
  {
   "cell_type": "code",
   "execution_count": 28,
   "id": "91e3f8b7",
   "metadata": {
    "scrolled": true
   },
   "outputs": [
    {
     "data": {
      "text/html": [
       "<div>\n",
       "<style scoped>\n",
       "    .dataframe tbody tr th:only-of-type {\n",
       "        vertical-align: middle;\n",
       "    }\n",
       "\n",
       "    .dataframe tbody tr th {\n",
       "        vertical-align: top;\n",
       "    }\n",
       "\n",
       "    .dataframe thead th {\n",
       "        text-align: right;\n",
       "    }\n",
       "</style>\n",
       "<table border=\"1\" class=\"dataframe\">\n",
       "  <thead>\n",
       "    <tr style=\"text-align: right;\">\n",
       "      <th></th>\n",
       "      <th>user_id</th>\n",
       "      <th>name</th>\n",
       "      <th>age</th>\n",
       "      <th>city</th>\n",
       "      <th>subscription_type</th>\n",
       "      <th>distance</th>\n",
       "      <th>duration</th>\n",
       "      <th>date</th>\n",
       "      <th>month</th>\n",
       "      <th>minute_price</th>\n",
       "      <th>start_ride_price</th>\n",
       "      <th>subscription_fee</th>\n",
       "    </tr>\n",
       "  </thead>\n",
       "  <tbody>\n",
       "    <tr>\n",
       "      <th>0</th>\n",
       "      <td>1</td>\n",
       "      <td>Кира</td>\n",
       "      <td>22</td>\n",
       "      <td>Тюмень</td>\n",
       "      <td>True</td>\n",
       "      <td>4409.919140</td>\n",
       "      <td>26</td>\n",
       "      <td>2021-01-01</td>\n",
       "      <td>1</td>\n",
       "      <td>6</td>\n",
       "      <td>0</td>\n",
       "      <td>199</td>\n",
       "    </tr>\n",
       "    <tr>\n",
       "      <th>1</th>\n",
       "      <td>1</td>\n",
       "      <td>Кира</td>\n",
       "      <td>22</td>\n",
       "      <td>Тюмень</td>\n",
       "      <td>True</td>\n",
       "      <td>2617.592153</td>\n",
       "      <td>16</td>\n",
       "      <td>2021-01-18</td>\n",
       "      <td>1</td>\n",
       "      <td>6</td>\n",
       "      <td>0</td>\n",
       "      <td>199</td>\n",
       "    </tr>\n",
       "    <tr>\n",
       "      <th>2</th>\n",
       "      <td>1</td>\n",
       "      <td>Кира</td>\n",
       "      <td>22</td>\n",
       "      <td>Тюмень</td>\n",
       "      <td>True</td>\n",
       "      <td>754.159807</td>\n",
       "      <td>7</td>\n",
       "      <td>2021-04-20</td>\n",
       "      <td>4</td>\n",
       "      <td>6</td>\n",
       "      <td>0</td>\n",
       "      <td>199</td>\n",
       "    </tr>\n",
       "    <tr>\n",
       "      <th>3</th>\n",
       "      <td>1</td>\n",
       "      <td>Кира</td>\n",
       "      <td>22</td>\n",
       "      <td>Тюмень</td>\n",
       "      <td>True</td>\n",
       "      <td>2694.783254</td>\n",
       "      <td>19</td>\n",
       "      <td>2021-08-11</td>\n",
       "      <td>8</td>\n",
       "      <td>6</td>\n",
       "      <td>0</td>\n",
       "      <td>199</td>\n",
       "    </tr>\n",
       "    <tr>\n",
       "      <th>4</th>\n",
       "      <td>1</td>\n",
       "      <td>Кира</td>\n",
       "      <td>22</td>\n",
       "      <td>Тюмень</td>\n",
       "      <td>True</td>\n",
       "      <td>4028.687306</td>\n",
       "      <td>27</td>\n",
       "      <td>2021-08-28</td>\n",
       "      <td>8</td>\n",
       "      <td>6</td>\n",
       "      <td>0</td>\n",
       "      <td>199</td>\n",
       "    </tr>\n",
       "  </tbody>\n",
       "</table>\n",
       "</div>"
      ],
      "text/plain": [
       "   user_id  name  age    city  subscription_type     distance  duration  \\\n",
       "0        1  Кира   22  Тюмень               True  4409.919140        26   \n",
       "1        1  Кира   22  Тюмень               True  2617.592153        16   \n",
       "2        1  Кира   22  Тюмень               True   754.159807         7   \n",
       "3        1  Кира   22  Тюмень               True  2694.783254        19   \n",
       "4        1  Кира   22  Тюмень               True  4028.687306        27   \n",
       "\n",
       "        date  month  minute_price  start_ride_price  subscription_fee  \n",
       "0 2021-01-01      1             6                 0               199  \n",
       "1 2021-01-18      1             6                 0               199  \n",
       "2 2021-04-20      4             6                 0               199  \n",
       "3 2021-08-11      8             6                 0               199  \n",
       "4 2021-08-28      8             6                 0               199  "
      ]
     },
     "execution_count": 28,
     "metadata": {},
     "output_type": "execute_result"
    }
   ],
   "source": [
    "df_ultra = df.loc[df['subscription_type'] == True]\n",
    "df_ultra.head()"
   ]
  },
  {
   "cell_type": "markdown",
   "id": "7bab4da2",
   "metadata": {},
   "source": [
    "Визуализируем информацию о расстоянии и времени поездок для пользователей обеих категорий:"
   ]
  },
  {
   "cell_type": "code",
   "execution_count": 29,
   "id": "7dc83382",
   "metadata": {
    "scrolled": true
   },
   "outputs": [
    {
     "data": {
      "image/png": "[encoded data removed]",
      "text/plain": [
       "<Figure size 432x288 with 1 Axes>"
      ]
     },
     "metadata": {
      "needs_background": "light"
     },
     "output_type": "display_data"
    }
   ],
   "source": [
    "plt.hist([df_free['distance'], df_ultra['distance']], bins=50, range=(1,5600), label=['free', 'ultra'])\n",
    "plt.legend(loc='upper right')\n",
    "plt.title('Количество поездок в зависимости расстояния поездки')\n",
    "plt.xlabel('Расстояние в метрах')\n",
    "plt.ylabel('Количество поездок')\n",
    "plt.show()"
   ]
  },
  {
   "cell_type": "code",
   "execution_count": 30,
   "id": "6f6f7e69",
   "metadata": {},
   "outputs": [
    {
     "data": {
      "image/png": "[encoded data removed]",
      "text/plain": [
       "<Figure size 432x288 with 1 Axes>"
      ]
     },
     "metadata": {
      "needs_background": "light"
     },
     "output_type": "display_data"
    }
   ],
   "source": [
    "plt.hist([df_free['duration'], df_ultra['duration']], bins=30, range=(1,30), label=['free', 'ultra'])\n",
    "plt.legend(loc='upper right')\n",
    "plt.title('Количество поездок в зависимости от продолжительности')\n",
    "plt.xlabel('Продолжительность поездки')\n",
    "plt.ylabel('Количество поездок')\n",
    "plt.show()"
   ]
  },
  {
   "cell_type": "code",
   "execution_count": 31,
   "id": "afc603ed",
   "metadata": {},
   "outputs": [
    {
     "data": {
      "text/plain": [
       "count    11568.000000\n",
       "mean      3045.495282\n",
       "std       1246.173806\n",
       "min          0.855683\n",
       "25%       2366.562689\n",
       "50%       3114.648465\n",
       "75%       3905.697894\n",
       "max       7211.007745\n",
       "Name: distance, dtype: float64"
      ]
     },
     "execution_count": 31,
     "metadata": {},
     "output_type": "execute_result"
    }
   ],
   "source": [
    "df_free['distance'].describe()"
   ]
  },
  {
   "cell_type": "code",
   "execution_count": 32,
   "id": "68d90b17",
   "metadata": {},
   "outputs": [
    {
     "data": {
      "text/plain": [
       "count    6500.000000\n",
       "mean     3115.445388\n",
       "std       836.895330\n",
       "min       244.210438\n",
       "25%      2785.444017\n",
       "50%      3148.637229\n",
       "75%      3560.574425\n",
       "max      5699.769662\n",
       "Name: distance, dtype: float64"
      ]
     },
     "execution_count": 32,
     "metadata": {},
     "output_type": "execute_result"
    }
   ],
   "source": [
    "df_ultra['distance'].describe()"
   ]
  },
  {
   "cell_type": "code",
   "execution_count": 33,
   "id": "5d05b807",
   "metadata": {},
   "outputs": [
    {
     "data": {
      "text/plain": [
       "count    11568.000000\n",
       "mean        17.890992\n",
       "std          6.330250\n",
       "min          1.000000\n",
       "25%         13.000000\n",
       "50%         18.000000\n",
       "75%         22.000000\n",
       "max         35.000000\n",
       "Name: duration, dtype: float64"
      ]
     },
     "execution_count": 33,
     "metadata": {},
     "output_type": "execute_result"
    }
   ],
   "source": [
    "df_free['duration'].describe()"
   ]
  },
  {
   "cell_type": "code",
   "execution_count": 34,
   "id": "bdec7571",
   "metadata": {},
   "outputs": [
    {
     "data": {
      "text/plain": [
       "count    6500.000000\n",
       "mean       19.037692\n",
       "std         5.577439\n",
       "min         4.000000\n",
       "25%        15.000000\n",
       "50%        19.000000\n",
       "75%        22.000000\n",
       "max        41.000000\n",
       "Name: duration, dtype: float64"
      ]
     },
     "execution_count": 34,
     "metadata": {},
     "output_type": "execute_result"
    }
   ],
   "source": [
    "df_ultra['duration'].describe()"
   ]
  },
  {
   "cell_type": "markdown",
   "id": "9110f6a8",
   "metadata": {},
   "source": [
    "Вывод по объединению и визуализации данных пользователей без подписки и с подпиской:"
   ]
  },
  {
   "cell_type": "markdown",
   "id": "a34cd94c",
   "metadata": {},
   "source": [
    "1. Визуализация созданных датафреймов зависимости количества поездок на определенное расстояние и описательная статистика (.describe()) по пользователям без подписки \"free\" и с подпиской \"ultra\" указывает на то, что подписка влияет на медианные значения (расстояния поездки без подписки 3114.65 метров с подпиской 3148.64 метров), при этом заметно что у пользователей с подпиской меньший разброс (видно из графиков и по стандартному отклонению free - 1246,17 ultra - 836.89).\n",
    "\n",
    "2. Визуализация созданных датафреймов зависимости количества поездок за определенное время и описательная статистика (.describe()) по пользователям без подписки \"free\" и с подпиской \"ultra\" указывает на то, что подписка влияет на медианные значения (время поездки без подписки 18 мин с подпиской 19 мин), также замечено снижение стандартного отклонения free - 6.33 ultra - 5.57.\n",
    "\n",
    "Итого: Подписка влияет на расстояние поездок и на время в пути."
   ]
  },
  {
   "cell_type": "markdown",
   "id": "402d620f",
   "metadata": {},
   "source": [
    "### Подсчёт выручки"
   ]
  },
  {
   "cell_type": "markdown",
   "id": "d3a16499",
   "metadata": {},
   "source": [
    "#### Создадим датафрейм с агрегированными данными о поездках на основе датафрейма с объединёнными данными из шага 4: найдем суммарное расстояние, количество поездок и суммарное время для каждого пользователя за каждый месяц."
   ]
  },
  {
   "cell_type": "code",
   "execution_count": 35,
   "id": "ef9850b0",
   "metadata": {},
   "outputs": [
    {
     "data": {
      "text/html": [
       "<div>\n",
       "<style scoped>\n",
       "    .dataframe tbody tr th:only-of-type {\n",
       "        vertical-align: middle;\n",
       "    }\n",
       "\n",
       "    .dataframe tbody tr th {\n",
       "        vertical-align: top;\n",
       "    }\n",
       "\n",
       "    .dataframe thead th {\n",
       "        text-align: right;\n",
       "    }\n",
       "</style>\n",
       "<table border=\"1\" class=\"dataframe\">\n",
       "  <thead>\n",
       "    <tr style=\"text-align: right;\">\n",
       "      <th></th>\n",
       "      <th></th>\n",
       "      <th>count</th>\n",
       "      <th>distance</th>\n",
       "      <th>duration</th>\n",
       "      <th>minute_price</th>\n",
       "      <th>start_ride_price</th>\n",
       "      <th>subscription_fee</th>\n",
       "    </tr>\n",
       "    <tr>\n",
       "      <th>user_id</th>\n",
       "      <th>month</th>\n",
       "      <th></th>\n",
       "      <th></th>\n",
       "      <th></th>\n",
       "      <th></th>\n",
       "      <th></th>\n",
       "      <th></th>\n",
       "    </tr>\n",
       "  </thead>\n",
       "  <tbody>\n",
       "    <tr>\n",
       "      <th rowspan=\"5\" valign=\"top\">1</th>\n",
       "      <th>1</th>\n",
       "      <td>2</td>\n",
       "      <td>7027.511294</td>\n",
       "      <td>42</td>\n",
       "      <td>6</td>\n",
       "      <td>0</td>\n",
       "      <td>199</td>\n",
       "    </tr>\n",
       "    <tr>\n",
       "      <th>4</th>\n",
       "      <td>1</td>\n",
       "      <td>754.159807</td>\n",
       "      <td>7</td>\n",
       "      <td>6</td>\n",
       "      <td>0</td>\n",
       "      <td>199</td>\n",
       "    </tr>\n",
       "    <tr>\n",
       "      <th>8</th>\n",
       "      <td>2</td>\n",
       "      <td>6723.470560</td>\n",
       "      <td>46</td>\n",
       "      <td>6</td>\n",
       "      <td>0</td>\n",
       "      <td>199</td>\n",
       "    </tr>\n",
       "    <tr>\n",
       "      <th>10</th>\n",
       "      <td>2</td>\n",
       "      <td>5809.911100</td>\n",
       "      <td>32</td>\n",
       "      <td>6</td>\n",
       "      <td>0</td>\n",
       "      <td>199</td>\n",
       "    </tr>\n",
       "    <tr>\n",
       "      <th>11</th>\n",
       "      <td>3</td>\n",
       "      <td>7003.499363</td>\n",
       "      <td>56</td>\n",
       "      <td>6</td>\n",
       "      <td>0</td>\n",
       "      <td>199</td>\n",
       "    </tr>\n",
       "  </tbody>\n",
       "</table>\n",
       "</div>"
      ],
      "text/plain": [
       "               count     distance  duration  minute_price  start_ride_price  \\\n",
       "user_id month                                                                 \n",
       "1       1          2  7027.511294        42             6                 0   \n",
       "        4          1   754.159807         7             6                 0   \n",
       "        8          2  6723.470560        46             6                 0   \n",
       "        10         2  5809.911100        32             6                 0   \n",
       "        11         3  7003.499363        56             6                 0   \n",
       "\n",
       "               subscription_fee  \n",
       "user_id month                    \n",
       "1       1                   199  \n",
       "        4                   199  \n",
       "        8                   199  \n",
       "        10                  199  \n",
       "        11                  199  "
      ]
     },
     "execution_count": 35,
     "metadata": {},
     "output_type": "execute_result"
    }
   ],
   "source": [
    "users_months_revenue = df.pivot_table(\n",
    "    index=('user_id', 'month'), \n",
    "    values=(\n",
    "        'distance', \n",
    "        'duration', \n",
    "        'minute_price', \n",
    "        'start_ride_price', \n",
    "        'subscription_fee'\n",
    "    ), \n",
    "    aggfunc=({'distance':{'count', 'sum'}, \n",
    "             'duration':'sum',\n",
    "             'minute_price': 'mean',\n",
    "             'start_ride_price':'mean',\n",
    "             'subscription_fee':'mean',})\n",
    ")\n",
    "\n",
    "users_months_revenue.columns = [\n",
    "    'count', 'distance', \n",
    "    'duration', \n",
    "    'minute_price',\n",
    "    'start_ride_price', \n",
    "    'subscription_fee'\n",
    "]\n",
    "\n",
    "\n",
    "users_months_revenue.head()"
   ]
  },
  {
   "cell_type": "markdown",
   "id": "91418bdb",
   "metadata": {},
   "source": [
    "#### В этот же датафрейм добавим столбец с помесячной выручкой, которую принёс каждый пользователь."
   ]
  },
  {
   "cell_type": "code",
   "execution_count": 36,
   "id": "bfd3dae3",
   "metadata": {},
   "outputs": [],
   "source": [
    "users_months_revenue['revenue'] = (\n",
    "    users_months_revenue['start_ride_price']*users_months_revenue['count'] + \n",
    "    users_months_revenue['minute_price']*users_months_revenue['duration'] + \n",
    "    users_months_revenue['subscription_fee']\n",
    ")\n",
    "users_months_revenue['revenue'] = users_months_revenue['revenue'].astype('uint16')"
   ]
  },
  {
   "cell_type": "code",
   "execution_count": 37,
   "id": "e020bb88",
   "metadata": {
    "scrolled": false
   },
   "outputs": [
    {
     "data": {
      "text/html": [
       "<div>\n",
       "<style scoped>\n",
       "    .dataframe tbody tr th:only-of-type {\n",
       "        vertical-align: middle;\n",
       "    }\n",
       "\n",
       "    .dataframe tbody tr th {\n",
       "        vertical-align: top;\n",
       "    }\n",
       "\n",
       "    .dataframe thead th {\n",
       "        text-align: right;\n",
       "    }\n",
       "</style>\n",
       "<table border=\"1\" class=\"dataframe\">\n",
       "  <thead>\n",
       "    <tr style=\"text-align: right;\">\n",
       "      <th></th>\n",
       "      <th></th>\n",
       "      <th>count</th>\n",
       "      <th>distance</th>\n",
       "      <th>duration</th>\n",
       "      <th>minute_price</th>\n",
       "      <th>start_ride_price</th>\n",
       "      <th>subscription_fee</th>\n",
       "      <th>revenue</th>\n",
       "    </tr>\n",
       "    <tr>\n",
       "      <th>user_id</th>\n",
       "      <th>month</th>\n",
       "      <th></th>\n",
       "      <th></th>\n",
       "      <th></th>\n",
       "      <th></th>\n",
       "      <th></th>\n",
       "      <th></th>\n",
       "      <th></th>\n",
       "    </tr>\n",
       "  </thead>\n",
       "  <tbody>\n",
       "    <tr>\n",
       "      <th rowspan=\"5\" valign=\"top\">1</th>\n",
       "      <th>1</th>\n",
       "      <td>2</td>\n",
       "      <td>7027.511294</td>\n",
       "      <td>42</td>\n",
       "      <td>6</td>\n",
       "      <td>0</td>\n",
       "      <td>199</td>\n",
       "      <td>451</td>\n",
       "    </tr>\n",
       "    <tr>\n",
       "      <th>4</th>\n",
       "      <td>1</td>\n",
       "      <td>754.159807</td>\n",
       "      <td>7</td>\n",
       "      <td>6</td>\n",
       "      <td>0</td>\n",
       "      <td>199</td>\n",
       "      <td>241</td>\n",
       "    </tr>\n",
       "    <tr>\n",
       "      <th>8</th>\n",
       "      <td>2</td>\n",
       "      <td>6723.470560</td>\n",
       "      <td>46</td>\n",
       "      <td>6</td>\n",
       "      <td>0</td>\n",
       "      <td>199</td>\n",
       "      <td>475</td>\n",
       "    </tr>\n",
       "    <tr>\n",
       "      <th>10</th>\n",
       "      <td>2</td>\n",
       "      <td>5809.911100</td>\n",
       "      <td>32</td>\n",
       "      <td>6</td>\n",
       "      <td>0</td>\n",
       "      <td>199</td>\n",
       "      <td>391</td>\n",
       "    </tr>\n",
       "    <tr>\n",
       "      <th>11</th>\n",
       "      <td>3</td>\n",
       "      <td>7003.499363</td>\n",
       "      <td>56</td>\n",
       "      <td>6</td>\n",
       "      <td>0</td>\n",
       "      <td>199</td>\n",
       "      <td>535</td>\n",
       "    </tr>\n",
       "  </tbody>\n",
       "</table>\n",
       "</div>"
      ],
      "text/plain": [
       "               count     distance  duration  minute_price  start_ride_price  \\\n",
       "user_id month                                                                 \n",
       "1       1          2  7027.511294        42             6                 0   \n",
       "        4          1   754.159807         7             6                 0   \n",
       "        8          2  6723.470560        46             6                 0   \n",
       "        10         2  5809.911100        32             6                 0   \n",
       "        11         3  7003.499363        56             6                 0   \n",
       "\n",
       "               subscription_fee  revenue  \n",
       "user_id month                             \n",
       "1       1                   199      451  \n",
       "        4                   199      241  \n",
       "        8                   199      475  \n",
       "        10                  199      391  \n",
       "        11                  199      535  "
      ]
     },
     "execution_count": 37,
     "metadata": {},
     "output_type": "execute_result"
    }
   ],
   "source": [
    "users_months_revenue.head()"
   ]
  },
  {
   "cell_type": "code",
   "execution_count": 38,
   "id": "bba2b960",
   "metadata": {
    "scrolled": true
   },
   "outputs": [
    {
     "name": "stdout",
     "output_type": "stream",
     "text": [
      "В период с  2021-01-01 00:00:00 по 2021-12-30 00:00:00\n",
      "Выручка сервиса аренды самокатов \"GoFast\" за год составила: 3878641 руб.\n"
     ]
    }
   ],
   "source": [
    "print('В период с ', df['date'].min(), 'по', df['date'].max())\n",
    "print ('Выручка сервиса аренды самокатов \"GoFast\" за год составила:',users_months_revenue['revenue'].sum(), 'руб.')"
   ]
  },
  {
   "cell_type": "markdown",
   "id": "41545ac0",
   "metadata": {},
   "source": [
    "### Проверка гипотез"
   ]
  },
  {
   "cell_type": "markdown",
   "id": "8b3edebf",
   "metadata": {},
   "source": [
    "#### Определим, тратят ли пользователи с подпиской больше времени на поездки.\\\n",
    "Если да, то пользователи с подпиской могут быть «выгоднее» для компании.\n",
    "\n",
    "Выдвинем гипотезы:\\\n",
    "Н0: Средняя продолжительность поездок с подпиской ultra и без free равна.\\\n",
    "Н1: Средняя продолжительность поездок с подпиской ultra больше продолжительности поездок без подписки free.\\\n",
    "Проверим гипотезы, используем исходные данные о продолжительности каждой сессии — отдельно для подписчиков и тех, у кого нет подписки."
   ]
  },
  {
   "cell_type": "code",
   "execution_count": 39,
   "id": "29aa81a0",
   "metadata": {},
   "outputs": [
    {
     "name": "stdout",
     "output_type": "stream",
     "text": [
      "2.4959453720736625e-34\n",
      "Отвергаем нулевую гипотезу\n"
     ]
    }
   ],
   "source": [
    "results = st.ttest_ind(\n",
    "    df_ultra['duration'], \n",
    "    df_free['duration'], \n",
    "    equal_var=True, \n",
    "    alternative='greater')\n",
    "print(results.pvalue)\n",
    "\n",
    "alpha = 0.05\n",
    "if results.pvalue < alpha:\n",
    "    print('Отвергаем нулевую гипотезу')\n",
    "else:\n",
    "    print('Не получилось отвергнуть нулевую гипотезу')"
   ]
  },
  {
   "cell_type": "markdown",
   "id": "e7ea8822",
   "metadata": {},
   "source": [
    "Вывод по тратам с подпиской и без подписки:\n",
    "\n",
    "Нулевая гипотеза отвергнута. Есть основания утверждать, что средняя продолжительность поездки с подпиской больше продолжительности поездок без подписки при установленном уровне значимости в 5 %, хотя на гистограммах, это практически не прослеживается."
   ]
  },
  {
   "cell_type": "markdown",
   "id": "26f01d19",
   "metadata": {},
   "source": [
    "#### Установим действительно ли, что расстояние которое проезжают пользователи с подпиской за одну поездку, не превышает 3130 метров."
   ]
  },
  {
   "cell_type": "markdown",
   "id": "215b193a",
   "metadata": {},
   "source": [
    "Выдвинем гипотезы:\n",
    "\n",
    "Н0: Среднее расстояние поездок с подпиской ultra равно оптимальному расстоянию в 3130 метров.\\\n",
    "Н1: Среднее расстояние поездок с подпиской ultra больше оптимального в 3130 метров.\\\n",
    "Проверим гипотезы, используем исходные данные о расстоянии для подписчиков."
   ]
  },
  {
   "cell_type": "code",
   "execution_count": 40,
   "id": "a867d51c",
   "metadata": {},
   "outputs": [
    {
     "name": "stdout",
     "output_type": "stream",
     "text": [
      "0.9195368847849785\n",
      "Не получилось отвергнуть нулевую гипотезу\n"
     ]
    }
   ],
   "source": [
    "distance = 3130\n",
    "alpha = 0.05\n",
    "\n",
    "results = st.ttest_1samp(\n",
    "    df_ultra['distance'], \n",
    "    distance,\n",
    "    alternative='greater')\n",
    "\n",
    "print(results.pvalue)\n",
    "\n",
    "if results.pvalue < alpha:\n",
    "    print('Отвергаем нулевую гипотезу')\n",
    "else:\n",
    "    print('Не получилось отвергнуть нулевую гипотезу')"
   ]
  },
  {
   "cell_type": "markdown",
   "id": "92454f19",
   "metadata": {},
   "source": [
    "Вывод по оптимальному растоянию поездки с точки зрения износа самоката для пользователей с подпиской:\n",
    "\n",
    "Нулевую гипотезу не удалось отвергнуть и следовательно, есть основания утверждать, что среднее расстояние поездки пользователей с подпиской не превышает оптимальное расстояние в 3130 метров с точки зрения износа самоката, при установленном уровне значимости в 5 %."
   ]
  },
  {
   "cell_type": "markdown",
   "id": "77b878a0",
   "metadata": {},
   "source": [
    "#### Определим, будет ли помесячная выручка от пользователей с подпиской по месяцам выше, чем выручка от пользователей без подписки."
   ]
  },
  {
   "cell_type": "markdown",
   "id": "9b0f2f7b",
   "metadata": {},
   "source": [
    "Выдвинем гипотезы:\n",
    "\n",
    "Н0: Помесячная средняя выручка от пользователей с подпиской равна помесячной средней выручке от пользователей без подписки.\\\n",
    "Н1: Помесячная средняя выручка от пользователей с подпиской больше помесячной средней выручки от пользователей без подписки.\\\n",
    "Проверим гипотезы, используем данные о выручке с подпиской и без подписки."
   ]
  },
  {
   "cell_type": "code",
   "execution_count": 41,
   "id": "2c74c279",
   "metadata": {},
   "outputs": [
    {
     "name": "stdout",
     "output_type": "stream",
     "text": [
      "1.8850394384715216e-31\n",
      "Отвергаем нулевую гипотезу\n"
     ]
    }
   ],
   "source": [
    "results = st.ttest_ind(\n",
    "    users_months_revenue.loc[users_months_revenue['subscription_fee'] > 0, 'revenue'], \n",
    "    users_months_revenue.loc[users_months_revenue['subscription_fee'] == 0, 'revenue'], \n",
    "    equal_var=True, \n",
    "    alternative='greater')\n",
    "print(results.pvalue)\n",
    "\n",
    "alpha = 0.05\n",
    "if results.pvalue < alpha:\n",
    "    print('Отвергаем нулевую гипотезу')\n",
    "else:\n",
    "    print('Не получилось отвергнуть нулевую гипотезу')"
   ]
  },
  {
   "cell_type": "markdown",
   "id": "7f124734",
   "metadata": {},
   "source": [
    "Вывод по месячной выручке от пользователей с подпиской и без подписки:\n",
    "\n",
    "Нулевая гипотеза отвергнута. Есть основания утверждать, что средняя месячная выручка от пользователей с подпиской больше средней месячной выручки от пользователей без подписки, при установленном уровне значимости в 5 %."
   ]
  },
  {
   "cell_type": "markdown",
   "id": "83d11591",
   "metadata": {},
   "source": [
    "#### Какой тест вам понадобился бы для проверки этой гипотезы?"
   ]
  },
  {
   "cell_type": "markdown",
   "id": "d85fd15e",
   "metadata": {},
   "source": [
    "Теоретически это две зависимые выборки, иначе - парные. Если в данных некоторая переменная измеряется дважды (количество обращений до обновления и после него) для одних и тех же объектов (пользователь) и имеют одинаковые размеры, тогда можно применить метод scipy.stats.ttest_rel(). При проверке на то, что истинное среднее значение генеральной выборки до изменения больше чем истинное среднее значение генеральной совокупности после изменения следует указать alternative=\"less\".\\\n",
    "Если требования к зависимым выборкам не выполняются, можно воспользоваться методом scipy.stats.ttest_ind()."
   ]
  },
  {
   "cell_type": "markdown",
   "id": "26ed71ce",
   "metadata": {},
   "source": [
    "Вывод по проверке гипотез:\n",
    "\n",
    "1. Нулевая гипотеза отвергнута. Есть основания утверждать, что средняя продолжительность поездки с подпиской больше продолжительности поездок без подписки при установленном уровне значимости в 5 %, хотя на гистограммах, это практически не прослеживается.\n",
    "2. Нулевую гипотезу не удалось отвергнуть и следовательно, есть основания утверждать, что среднее расстояние поездки пользователей с подпиской не превышает оптимальное расстояние в 3130 метров с точки зрения износа самоката, при установленном уровне значимости в 5 %.\n",
    "3. Нулевая гипотеза отвергнута. Есть основания утверждать, что средняя месячная выручка от пользователей с подпиской больше средней месячной выручки от пользователей без подписки, при установленном уровне значимости в 5 %.\n",
    "4. Теоретически это две зависимые выборки, иначе - парные. Если в данных некоторая переменная измеряется дважды (количество обращений до обновления и после него) для одних и тех же объектов (пользователь) и имеют одинаковые размеры, тогда можно применить метод scipy.stats.ttest_rel(). При проверке на то, что истинное среднее значение генеральной выборки до изменения больше чем истинное среднее значение генеральной совокупности после изменения следует указать alternative=\"less\".\\\n",
    "Если требования к зависимым выборкам не выполняются, можно воспользоваться методом scipy.stats.ttest_ind()."
   ]
  },
  {
   "cell_type": "markdown",
   "id": "61213c5e",
   "metadata": {},
   "source": [
    "### Распределения"
   ]
  },
  {
   "cell_type": "markdown",
   "id": "6cf74559",
   "metadata": {},
   "source": [
    "#### Какое минимальное количество промокодов нужно разослать, чтобы вероятность не выполнить план была примерно 5 %?"
   ]
  },
  {
   "cell_type": "code",
   "execution_count": 42,
   "id": "c43543d4",
   "metadata": {},
   "outputs": [
    {
     "name": "stdout",
     "output_type": "stream",
     "text": [
      "При раздаче промокодов в количестве 1161 вероятность, не выполнить план меньше 5.0 %\n"
     ]
    }
   ],
   "source": [
    "n = 1000\n",
    "p = 0.1\n",
    "k = 99\n",
    "binom_cdf = 0.05\n",
    "\n",
    "while binom_cdf < binom.cdf(k, n, p):\n",
    "    n += 1\n",
    "print(f'При раздаче промокодов в количестве {n} вероятность, не выполнить план меньше {binom.cdf(k, n, p).round(2)*100} %')"
   ]
  },
  {
   "cell_type": "markdown",
   "id": "0faa6b6b",
   "metadata": {},
   "source": [
    "Зададим математическое ожидание и стандартное отклонение нормального распределения равными математическому ожиданию и стандартному отклонению биномиального распределения:"
   ]
  },
  {
   "cell_type": "code",
   "execution_count": 43,
   "id": "ba1cff5e",
   "metadata": {},
   "outputs": [
    {
     "data": {
      "image/png": "[encoded data removed]",
      "text/plain": [
       "<Figure size 432x288 with 1 Axes>"
      ]
     },
     "metadata": {
      "needs_background": "light"
     },
     "output_type": "display_data"
    }
   ],
   "source": [
    "mu = n * p\n",
    "sigma = (n * p * (1 - p))**0.5\n",
    "\n",
    "arange = np.arange((mu - 4 * sigma),(mu + 4 * sigma),1)\n",
    "\n",
    "plt.plot(arange, st.norm.pdf(arange, mu, sigma), 'b-')\n",
    "plt.axvline(x=k, color='red')\n",
    "plt.axvline(x=mu, color='green')\n",
    "plt.show()"
   ]
  },
  {
   "cell_type": "markdown",
   "id": "2a06a899",
   "metadata": {},
   "source": [
    "Вывод:\n",
    "\n",
    "Нужно разослать минимум 1161 промокода, для того чтобы, минимум 100 существующих клиентов продлили подписку (продлевают подписку 10% пролучивших промокод) с вероятностью 5% не выполнить план."
   ]
  },
  {
   "cell_type": "markdown",
   "id": "3f54053c",
   "metadata": {},
   "source": [
    "#### Оценить вероятность того, что уведомление откроют не более 399,5 тыс. пользователей, если разослать 1 млн уведомлений."
   ]
  },
  {
   "cell_type": "markdown",
   "id": "75ba42b6",
   "metadata": {},
   "source": [
    "Параметры биномиального распределения:"
   ]
  },
  {
   "cell_type": "code",
   "execution_count": 44,
   "id": "6861c942",
   "metadata": {},
   "outputs": [],
   "source": [
    "n = 1000000\n",
    "p = 0.4\n",
    "k = 399500"
   ]
  },
  {
   "cell_type": "markdown",
   "id": "704dac9c",
   "metadata": {},
   "source": [
    "Зададим математическое ожидание и стандартное отклонение нормального распределения равными математическому ожиданию и стандартному отклонению биномиального распределения:"
   ]
  },
  {
   "cell_type": "code",
   "execution_count": 45,
   "id": "f70e7fba",
   "metadata": {},
   "outputs": [],
   "source": [
    "mu = n * p\n",
    "sigma = (n * p * (1 - p))**0.5"
   ]
  },
  {
   "cell_type": "markdown",
   "id": "3af6986b",
   "metadata": {},
   "source": [
    "Задаём нормальное распределение:"
   ]
  },
  {
   "cell_type": "code",
   "execution_count": 46,
   "id": "5dc1ab0b",
   "metadata": {},
   "outputs": [],
   "source": [
    "distr = st.norm(mu, sigma)"
   ]
  },
  {
   "cell_type": "markdown",
   "id": "db6a4be6",
   "metadata": {},
   "source": [
    "Считаем вероятность хвоста слева от 399.5 тысяч:"
   ]
  },
  {
   "cell_type": "code",
   "execution_count": 47,
   "id": "706b9301",
   "metadata": {
    "scrolled": true
   },
   "outputs": [
    {
     "name": "stdout",
     "output_type": "stream",
     "text": [
      "Вероятность открытия сообщений: 0.15371708296369768\n"
     ]
    },
    {
     "data": {
      "image/png": "[encoded data removed]",
      "text/plain": [
       "<Figure size 432x288 with 1 Axes>"
      ]
     },
     "metadata": {
      "needs_background": "light"
     },
     "output_type": "display_data"
    }
   ],
   "source": [
    "result = distr.cdf(k)\n",
    "print('Вероятность открытия сообщений:', result)\n",
    "\n",
    "arange = np.arange((mu - 4 * sigma),(mu + 4 * sigma),1)\n",
    "plt.plot(arange, st.norm.pdf(arange, mu, sigma), 'b-')\n",
    "plt.xticks(rotation=90)\n",
    "plt.axvline(x=k, color='red')\n",
    "plt.axvline(x=mu, color='green')\n",
    "plt.show()"
   ]
  },
  {
   "cell_type": "markdown",
   "id": "35467039",
   "metadata": {},
   "source": [
    "Вывод:\n",
    "\n",
    "399.5 тыс. клиентов откроют уведомления с вероятностью 0.1537 или 15.37%, если разослать 1 млн. уведомлений, которые открывают клиенты с вероятностью 40%."
   ]
  },
  {
   "cell_type": "markdown",
   "id": "93310505",
   "metadata": {},
   "source": [
    "# Общий вывод"
   ]
  },
  {
   "cell_type": "markdown",
   "id": "4b131be0",
   "metadata": {},
   "source": [
    "В процессе исследования данных о пользователях популярного сервиса аренды самокатов 'GoFast', были выполнены следующие этапы и сделаны выводы:"
   ]
  },
  {
   "cell_type": "markdown",
   "id": "6b8ab060",
   "metadata": {},
   "source": [
    "**1. Загрузка данных**\n",
    "\n",
    "В данных \"users_go\" 1565 записи, пропуски отсутствуют, количество явных дубликатов 31.\\\n",
    "В данных \"rides_go\" 18068 записи, пропуски отсутствуют, явных дубликатов нет.\\\n",
    "В данных \"subscriptions_go\" 2 записи, пропуски отсутствуют, явных дубликатов нет. Названия столбцов в норме.\\\n",
    "Данные признаны полными и достаточными для исследования."
   ]
  },
  {
   "cell_type": "markdown",
   "id": "6b1ff98f",
   "metadata": {},
   "source": [
    "**2. Предобработка данных**\n",
    "\n",
    "В данных \"users_go\":\\\n",
    "Удалили дубликаты\n",
    "\n",
    "В данных \"rides_go\":\\\n",
    "Округлили \"duration\" до целых вверх и перевели в int.\\\n",
    "Привели столбец \"date\" к типу \"datetime64\".\\\n",
    "Создали столбец \"month\" с номером месяца из \"date\"\n",
    "\n",
    "В данных \"subscriptions_go\" ничего не меняли."
   ]
  },
  {
   "cell_type": "markdown",
   "id": "e95faef5",
   "metadata": {},
   "source": [
    "**3. Исследовательский анализ данных**\n",
    "\n",
    "Визуализация и сортировка количества пользователей по городам указывает, что первенство держит город Пятигорск за ним Екатеринбург и Ростов-на-Дону. Замечено, что в первой половине располагаются в основном южные города, где сезон проката больше. Исключение составляет г.Екатеринбург, находящийся на 2 позиции.\n",
    "\n",
    "Количество пользователей без подписки (54,4%) превышает количество пользователей с подпиской (45,6%).\n",
    "\n",
    "Визуализация количества пользователей в зависимости от возраста указывает, что средний возраст потребителя услуги подчиняется нормальному распределению с медианой примерно в 25 лет. При этом средний возраст и медиана практически совпадают.\n",
    "\n",
    "Визуализация количества поездок в зависимости от расстояния указывает, что медиана поездок находится на 3133 метров, первый квартиль находится на значении 2543 метра, третий квартиль на 3776 метров.\n",
    "Постороив гистограмму с range=(1,7211), можно заметить второй пик на 700 метрах - следует иметь это ввиду.\n",
    "\n",
    "Визуализация количества поездок в зависимости от продолжительности указывает, что медиана поездок находится на 18 мин, первый квартиль находится на значении 14 мин, третий квартиль на 22 мин.\n",
    "На гисторгамме замечено аномальное время поездок порядка 100 с временем менее 1 минуты. Построенные гисторгаммы указывают, что в столбце времени присутствуют аномалии.\n",
    "Расчет средней скорости перемещения указывает, что в некоторых случаях самокаты перемещались со средней скоростью от 4000 до 7211,01 метров/мин, но это практически невозможно.\n",
    "Пока такие значения оставим без изменения."
   ]
  },
  {
   "cell_type": "markdown",
   "id": "c526264a",
   "metadata": {},
   "source": [
    "**4. Объединение данных**\n",
    "\n",
    "Визуализация созданных датафреймов зависимости количества поездок на определенное расстояние и описательная статистика (.describe()) по пользователям без подписки \"free\" и с подпиской \"ultra\" указывает на то, что подписка влияет на медианные значения (расстояния поездки без подписки 3114.65 метров с подпиской 3148.64 метров), при этом заметно что у пользователей с подпиской меньший разброс (видно из графиков и по стандартному отклонению free - 1246,17 ultra - 836.89).\n",
    "\n",
    "Визуализация созданных датафреймов зависимости количества поездок за определенное время и описательная статистика (.describe()) по пользователям без подписки \"free\" и с подпиской \"ultra\" указывает на то, что подписка влияет на медианные значения (время поездки без подписки 18 мин с подпиской 19 мин), также замечено снижение стандартного отклонения free - 6.33 ultra - 5.57.\n",
    "\n",
    "Итого: Подписка влияет на расстояние поездок и на время в пути."
   ]
  },
  {
   "cell_type": "markdown",
   "id": "9ded0ee9",
   "metadata": {},
   "source": [
    "**5. Подсчёт выручки**\n",
    "\n",
    "В период с  2021-01-01 00:00:00 по 2021-12-30 00:00:00\\\n",
    "Выручка сервиса аренды самокатов \"GoFast\" за год составила: 3878641 руб."
   ]
  },
  {
   "cell_type": "markdown",
   "id": "fe297bf0",
   "metadata": {},
   "source": [
    "**6. Проверка гипотез**\n",
    "\n",
    "Нулевая гипотеза отвергнута. Есть основания утверждать, что средняя продолжительность поездки с подпиской больше продолжительности поездок без подписки при установленном уровне значимости в 5 %, хотя на гистограммах, это практически не прослеживается.\n",
    "\n",
    "Нулевую гипотезу не удалось отвергнуть и следовательно, есть основания утверждать, что среднее расстояние поездки пользователей с подпиской не превышает оптимальное расстояние в 3130 метров с точки зрения износа самоката, при установленном уровне значимости в 5 %.\n",
    "\n",
    "Нулевая гипотеза отвергнута. Есть основания утверждать, что средняя месячная выручка от пользователей с подпиской больше средней месячной выручки от пользователей без подписки, при установленном уровне значимости в 5 %.\n",
    "\n",
    "Теоретически это две зависимые выборки, иначе - парные. Если в данных некоторая переменная измеряется дважды (количество обращений до обновления и после него) для одних и тех же объектов (пользователь) и имеют одинаковые размеры, тогда можно применить метод scipy.stats.ttest_rel(). При проверке на то, что истинное среднее значение генеральной выборки до изменения больше чем истинное среднее значение генеральной совокупности после изменения следует указать alternative=\"less\".\\\n",
    "Если требования к зависимым выборкам не выполняются, можно воспользоваться методом scipy.stats.ttest_ind()."
   ]
  },
  {
   "cell_type": "markdown",
   "id": "5629f9d9",
   "metadata": {},
   "source": [
    "**7. Распределения**\n",
    "\n",
    "Нужно разослать минимум 1161 промокода, для того чтобы, минимум 100 существующих клиентов продлили подписку (продлевают подписку 10% пролучивших промокод) с вероятностью 5% не выполнить план.\n",
    "\n",
    "399.5 тыс. клиентов откроют уведомления с вероятностью 0.1537 или 15.37%, если разослать 1 млн. уведомлений, которые открывают клиенты с вероятностью 40%."
   ]
  },
  {
   "cell_type": "markdown",
   "id": "7ccb863f",
   "metadata": {},
   "source": [
    "Из всего вышесказанного следует:\n",
    "\n",
    "Пользователи с подпиской являются более выгодными клиентами для сервиса аренды самокатов, в связи с этим руководству сервиса желательно принять меры для перехода клиентов на подписку!"
   ]
  }
 ],
 "metadata": {
  "ExecuteTimeLog": [
   {
    "duration": 1214,
    "start_time": "2024-03-16T09:35:54.698Z"
   },
   {
    "duration": 300,
    "start_time": "2024-03-16T09:38:17.739Z"
   },
   {
    "duration": 33,
    "start_time": "2024-03-16T09:39:40.582Z"
   },
   {
    "duration": 5746,
    "start_time": "2024-03-16T09:40:42.596Z"
   },
   {
    "duration": 16,
    "start_time": "2024-03-16T09:48:16.560Z"
   },
   {
    "duration": 4,
    "start_time": "2024-03-16T09:48:41.818Z"
   },
   {
    "duration": 1067,
    "start_time": "2024-03-16T09:53:35.313Z"
   },
   {
    "duration": 77,
    "start_time": "2024-03-16T09:53:36.384Z"
   },
   {
    "duration": 36,
    "start_time": "2024-03-16T09:53:36.462Z"
   },
   {
    "duration": 5510,
    "start_time": "2024-03-16T09:53:36.499Z"
   },
   {
    "duration": 11,
    "start_time": "2024-03-16T09:53:42.010Z"
   },
   {
    "duration": 3,
    "start_time": "2024-03-16T09:53:42.023Z"
   },
   {
    "duration": 184,
    "start_time": "2024-03-16T09:55:30.758Z"
   },
   {
    "duration": 162,
    "start_time": "2024-03-16T09:58:48.639Z"
   },
   {
    "duration": 168,
    "start_time": "2024-03-16T10:01:08.719Z"
   },
   {
    "duration": 164,
    "start_time": "2024-03-16T10:01:31.188Z"
   },
   {
    "duration": 169,
    "start_time": "2024-03-16T10:01:48.461Z"
   },
   {
    "duration": 167,
    "start_time": "2024-03-16T10:04:32.538Z"
   },
   {
    "duration": 149,
    "start_time": "2024-03-16T10:04:48.837Z"
   },
   {
    "duration": 308,
    "start_time": "2024-03-16T10:10:04.277Z"
   },
   {
    "duration": 8,
    "start_time": "2024-03-16T10:10:45.949Z"
   },
   {
    "duration": 8,
    "start_time": "2024-03-16T10:12:24.020Z"
   },
   {
    "duration": 769,
    "start_time": "2024-03-16T10:12:40.448Z"
   },
   {
    "duration": 682,
    "start_time": "2024-03-16T10:15:41.978Z"
   },
   {
    "duration": 816,
    "start_time": "2024-03-16T10:16:10.069Z"
   },
   {
    "duration": 10,
    "start_time": "2024-03-16T10:21:46.873Z"
   },
   {
    "duration": 174,
    "start_time": "2024-03-16T10:22:04.223Z"
   },
   {
    "duration": 172,
    "start_time": "2024-03-16T10:22:22.298Z"
   },
   {
    "duration": 424,
    "start_time": "2024-03-16T10:23:07.141Z"
   },
   {
    "duration": 460,
    "start_time": "2024-03-16T10:23:55.223Z"
   },
   {
    "duration": 16,
    "start_time": "2024-03-16T10:58:38.519Z"
   },
   {
    "duration": 18,
    "start_time": "2024-03-16T10:58:54.249Z"
   },
   {
    "duration": 6,
    "start_time": "2024-03-16T10:59:19.323Z"
   },
   {
    "duration": 1067,
    "start_time": "2024-03-16T11:06:08.257Z"
   },
   {
    "duration": 79,
    "start_time": "2024-03-16T11:06:09.326Z"
   },
   {
    "duration": 29,
    "start_time": "2024-03-16T11:06:09.406Z"
   },
   {
    "duration": 5355,
    "start_time": "2024-03-16T11:06:09.437Z"
   },
   {
    "duration": 12,
    "start_time": "2024-03-16T11:06:14.793Z"
   },
   {
    "duration": 7,
    "start_time": "2024-03-16T11:06:14.806Z"
   },
   {
    "duration": 189,
    "start_time": "2024-03-16T11:06:14.814Z"
   },
   {
    "duration": 168,
    "start_time": "2024-03-16T11:06:15.005Z"
   },
   {
    "duration": 283,
    "start_time": "2024-03-16T11:06:15.175Z"
   },
   {
    "duration": 12,
    "start_time": "2024-03-16T11:06:15.461Z"
   },
   {
    "duration": 54,
    "start_time": "2024-03-16T11:06:15.475Z"
   },
   {
    "duration": 763,
    "start_time": "2024-03-16T11:06:15.531Z"
   },
   {
    "duration": 8,
    "start_time": "2024-03-16T11:06:16.295Z"
   },
   {
    "duration": 206,
    "start_time": "2024-03-16T11:06:16.304Z"
   },
   {
    "duration": 384,
    "start_time": "2024-03-16T11:06:16.512Z"
   },
   {
    "duration": 16,
    "start_time": "2024-03-16T11:06:16.897Z"
   },
   {
    "duration": 12,
    "start_time": "2024-03-16T11:06:16.914Z"
   },
   {
    "duration": 20,
    "start_time": "2024-03-16T11:06:16.928Z"
   },
   {
    "duration": 8,
    "start_time": "2024-03-16T11:12:52.150Z"
   },
   {
    "duration": 11,
    "start_time": "2024-03-16T11:13:06.093Z"
   },
   {
    "duration": 6,
    "start_time": "2024-03-16T11:13:43.328Z"
   },
   {
    "duration": 5,
    "start_time": "2024-03-16T11:14:25.808Z"
   },
   {
    "duration": 6,
    "start_time": "2024-03-16T11:15:05.433Z"
   },
   {
    "duration": 7,
    "start_time": "2024-03-16T11:15:26.538Z"
   },
   {
    "duration": 15,
    "start_time": "2024-03-16T11:16:01.758Z"
   },
   {
    "duration": 243,
    "start_time": "2024-03-16T11:17:16.118Z"
   },
   {
    "duration": 17,
    "start_time": "2024-03-16T11:20:41.255Z"
   },
   {
    "duration": 97,
    "start_time": "2024-03-16T11:21:53.005Z"
   },
   {
    "duration": 164,
    "start_time": "2024-03-16T11:25:55.894Z"
   },
   {
    "duration": 176,
    "start_time": "2024-03-16T11:27:30.971Z"
   },
   {
    "duration": 27,
    "start_time": "2024-03-16T11:27:42.284Z"
   },
   {
    "duration": 1057,
    "start_time": "2024-03-16T11:30:27.285Z"
   },
   {
    "duration": 77,
    "start_time": "2024-03-16T11:30:28.344Z"
   },
   {
    "duration": 30,
    "start_time": "2024-03-16T11:30:28.423Z"
   },
   {
    "duration": 5667,
    "start_time": "2024-03-16T11:30:28.455Z"
   },
   {
    "duration": 8,
    "start_time": "2024-03-16T11:30:34.125Z"
   },
   {
    "duration": 13,
    "start_time": "2024-03-16T11:30:34.135Z"
   },
   {
    "duration": 21,
    "start_time": "2024-03-16T11:30:34.149Z"
   },
   {
    "duration": 26,
    "start_time": "2024-03-16T11:30:34.172Z"
   },
   {
    "duration": 7,
    "start_time": "2024-03-16T11:30:34.200Z"
   },
   {
    "duration": 6,
    "start_time": "2024-03-16T11:30:34.210Z"
   },
   {
    "duration": 16,
    "start_time": "2024-03-16T11:30:34.218Z"
   },
   {
    "duration": 41,
    "start_time": "2024-03-16T11:30:34.236Z"
   },
   {
    "duration": 14,
    "start_time": "2024-03-16T11:30:34.278Z"
   },
   {
    "duration": 199,
    "start_time": "2024-03-16T11:30:34.294Z"
   },
   {
    "duration": 169,
    "start_time": "2024-03-16T11:30:34.495Z"
   },
   {
    "duration": 289,
    "start_time": "2024-03-16T11:30:34.670Z"
   },
   {
    "duration": 13,
    "start_time": "2024-03-16T11:30:34.961Z"
   },
   {
    "duration": 8,
    "start_time": "2024-03-16T11:30:34.975Z"
   },
   {
    "duration": 826,
    "start_time": "2024-03-16T11:30:34.984Z"
   },
   {
    "duration": 8,
    "start_time": "2024-03-16T11:30:35.812Z"
   },
   {
    "duration": 193,
    "start_time": "2024-03-16T11:30:35.821Z"
   },
   {
    "duration": 396,
    "start_time": "2024-03-16T11:30:36.016Z"
   },
   {
    "duration": 16,
    "start_time": "2024-03-16T11:30:36.413Z"
   },
   {
    "duration": 13,
    "start_time": "2024-03-16T11:30:36.430Z"
   },
   {
    "duration": 26,
    "start_time": "2024-03-16T11:30:36.444Z"
   },
   {
    "duration": 5,
    "start_time": "2024-03-16T11:58:32.729Z"
   },
   {
    "duration": 30,
    "start_time": "2024-03-16T11:58:39.486Z"
   },
   {
    "duration": 179,
    "start_time": "2024-03-16T12:00:16.529Z"
   },
   {
    "duration": 434,
    "start_time": "2024-03-16T12:00:19.813Z"
   },
   {
    "duration": 1068,
    "start_time": "2024-03-16T12:00:56.728Z"
   },
   {
    "duration": 75,
    "start_time": "2024-03-16T12:00:57.798Z"
   },
   {
    "duration": 28,
    "start_time": "2024-03-16T12:00:57.875Z"
   },
   {
    "duration": 5411,
    "start_time": "2024-03-16T12:00:57.905Z"
   },
   {
    "duration": 7,
    "start_time": "2024-03-16T12:01:03.318Z"
   },
   {
    "duration": 33,
    "start_time": "2024-03-16T12:01:03.326Z"
   },
   {
    "duration": 7,
    "start_time": "2024-03-16T12:01:03.360Z"
   },
   {
    "duration": 7,
    "start_time": "2024-03-16T12:01:03.369Z"
   },
   {
    "duration": 6,
    "start_time": "2024-03-16T12:01:03.378Z"
   },
   {
    "duration": 6,
    "start_time": "2024-03-16T12:01:03.386Z"
   },
   {
    "duration": 20,
    "start_time": "2024-03-16T12:01:03.394Z"
   },
   {
    "duration": 4,
    "start_time": "2024-03-16T12:01:03.415Z"
   },
   {
    "duration": 33,
    "start_time": "2024-03-16T12:01:03.420Z"
   },
   {
    "duration": 12,
    "start_time": "2024-03-16T12:01:03.470Z"
   },
   {
    "duration": 192,
    "start_time": "2024-03-16T12:01:03.483Z"
   },
   {
    "duration": 165,
    "start_time": "2024-03-16T12:01:03.677Z"
   },
   {
    "duration": 269,
    "start_time": "2024-03-16T12:01:03.844Z"
   },
   {
    "duration": 8,
    "start_time": "2024-03-16T12:01:04.114Z"
   },
   {
    "duration": 8,
    "start_time": "2024-03-16T12:01:04.124Z"
   },
   {
    "duration": 790,
    "start_time": "2024-03-16T12:01:04.133Z"
   },
   {
    "duration": 8,
    "start_time": "2024-03-16T12:01:04.925Z"
   },
   {
    "duration": 189,
    "start_time": "2024-03-16T12:01:04.936Z"
   },
   {
    "duration": 394,
    "start_time": "2024-03-16T12:01:05.126Z"
   },
   {
    "duration": 16,
    "start_time": "2024-03-16T12:01:05.522Z"
   },
   {
    "duration": 12,
    "start_time": "2024-03-16T12:01:05.540Z"
   },
   {
    "duration": 7,
    "start_time": "2024-03-16T12:01:05.570Z"
   },
   {
    "duration": 6,
    "start_time": "2024-03-16T12:05:36.532Z"
   },
   {
    "duration": 92,
    "start_time": "2024-03-16T12:08:26.966Z"
   },
   {
    "duration": 9,
    "start_time": "2024-03-16T12:09:00.014Z"
   },
   {
    "duration": 7,
    "start_time": "2024-03-16T12:09:02.977Z"
   },
   {
    "duration": 10,
    "start_time": "2024-03-16T12:09:24.133Z"
   },
   {
    "duration": 1072,
    "start_time": "2024-03-16T12:09:34.743Z"
   },
   {
    "duration": 78,
    "start_time": "2024-03-16T12:09:35.816Z"
   },
   {
    "duration": 28,
    "start_time": "2024-03-16T12:09:35.896Z"
   },
   {
    "duration": 5415,
    "start_time": "2024-03-16T12:09:35.926Z"
   },
   {
    "duration": 7,
    "start_time": "2024-03-16T12:09:41.342Z"
   },
   {
    "duration": 9,
    "start_time": "2024-03-16T12:09:41.350Z"
   },
   {
    "duration": 6,
    "start_time": "2024-03-16T12:09:41.369Z"
   },
   {
    "duration": 6,
    "start_time": "2024-03-16T12:09:41.376Z"
   },
   {
    "duration": 5,
    "start_time": "2024-03-16T12:09:41.383Z"
   },
   {
    "duration": 6,
    "start_time": "2024-03-16T12:09:41.391Z"
   },
   {
    "duration": 14,
    "start_time": "2024-03-16T12:09:41.398Z"
   },
   {
    "duration": 7,
    "start_time": "2024-03-16T12:09:41.413Z"
   },
   {
    "duration": 54,
    "start_time": "2024-03-16T12:09:41.421Z"
   },
   {
    "duration": 12,
    "start_time": "2024-03-16T12:09:41.477Z"
   },
   {
    "duration": 189,
    "start_time": "2024-03-16T12:09:41.490Z"
   },
   {
    "duration": 155,
    "start_time": "2024-03-16T12:09:41.681Z"
   },
   {
    "duration": 282,
    "start_time": "2024-03-16T12:09:41.838Z"
   },
   {
    "duration": 10,
    "start_time": "2024-03-16T12:09:42.122Z"
   },
   {
    "duration": 19,
    "start_time": "2024-03-16T12:09:42.134Z"
   },
   {
    "duration": 753,
    "start_time": "2024-03-16T12:09:42.154Z"
   },
   {
    "duration": 8,
    "start_time": "2024-03-16T12:09:42.909Z"
   },
   {
    "duration": 193,
    "start_time": "2024-03-16T12:09:42.919Z"
   },
   {
    "duration": 365,
    "start_time": "2024-03-16T12:09:43.113Z"
   },
   {
    "duration": 13,
    "start_time": "2024-03-16T12:09:43.480Z"
   },
   {
    "duration": 11,
    "start_time": "2024-03-16T12:09:43.494Z"
   },
   {
    "duration": 7,
    "start_time": "2024-03-16T12:09:43.506Z"
   },
   {
    "duration": 114,
    "start_time": "2024-03-16T12:09:43.515Z"
   },
   {
    "duration": 16,
    "start_time": "2024-03-16T12:10:58.517Z"
   },
   {
    "duration": 12,
    "start_time": "2024-03-16T12:10:59.596Z"
   },
   {
    "duration": 6,
    "start_time": "2024-03-16T12:11:28.225Z"
   },
   {
    "duration": 9,
    "start_time": "2024-03-16T12:11:58.247Z"
   },
   {
    "duration": 8,
    "start_time": "2024-03-16T12:12:32.292Z"
   },
   {
    "duration": 3,
    "start_time": "2024-03-16T12:13:18.654Z"
   },
   {
    "duration": 287,
    "start_time": "2024-03-16T12:14:10.564Z"
   },
   {
    "duration": 214,
    "start_time": "2024-03-16T12:15:11.126Z"
   },
   {
    "duration": 10,
    "start_time": "2024-03-16T12:16:25.570Z"
   },
   {
    "duration": 8,
    "start_time": "2024-03-16T12:16:30.029Z"
   },
   {
    "duration": 7,
    "start_time": "2024-03-16T12:16:37.394Z"
   },
   {
    "duration": 9,
    "start_time": "2024-03-16T12:17:25.218Z"
   },
   {
    "duration": 1143,
    "start_time": "2024-03-16T12:17:36.768Z"
   },
   {
    "duration": 79,
    "start_time": "2024-03-16T12:17:37.913Z"
   },
   {
    "duration": 29,
    "start_time": "2024-03-16T12:17:37.994Z"
   },
   {
    "duration": 5615,
    "start_time": "2024-03-16T12:17:38.025Z"
   },
   {
    "duration": 7,
    "start_time": "2024-03-16T12:17:43.642Z"
   },
   {
    "duration": 25,
    "start_time": "2024-03-16T12:17:43.650Z"
   },
   {
    "duration": 12,
    "start_time": "2024-03-16T12:17:43.677Z"
   },
   {
    "duration": 17,
    "start_time": "2024-03-16T12:17:43.690Z"
   },
   {
    "duration": 7,
    "start_time": "2024-03-16T12:17:43.708Z"
   },
   {
    "duration": 6,
    "start_time": "2024-03-16T12:17:43.718Z"
   },
   {
    "duration": 19,
    "start_time": "2024-03-16T12:17:43.725Z"
   },
   {
    "duration": 4,
    "start_time": "2024-03-16T12:17:43.745Z"
   },
   {
    "duration": 49,
    "start_time": "2024-03-16T12:17:43.750Z"
   },
   {
    "duration": 17,
    "start_time": "2024-03-16T12:17:43.801Z"
   },
   {
    "duration": 207,
    "start_time": "2024-03-16T12:17:43.820Z"
   },
   {
    "duration": 186,
    "start_time": "2024-03-16T12:17:44.028Z"
   },
   {
    "duration": 310,
    "start_time": "2024-03-16T12:17:44.215Z"
   },
   {
    "duration": 9,
    "start_time": "2024-03-16T12:17:44.526Z"
   },
   {
    "duration": 21,
    "start_time": "2024-03-16T12:17:44.536Z"
   },
   {
    "duration": 852,
    "start_time": "2024-03-16T12:17:44.559Z"
   },
   {
    "duration": 7,
    "start_time": "2024-03-16T12:17:45.413Z"
   },
   {
    "duration": 212,
    "start_time": "2024-03-16T12:17:45.422Z"
   },
   {
    "duration": 412,
    "start_time": "2024-03-16T12:17:45.635Z"
   },
   {
    "duration": 21,
    "start_time": "2024-03-16T12:17:46.048Z"
   },
   {
    "duration": 21,
    "start_time": "2024-03-16T12:17:46.072Z"
   },
   {
    "duration": 130,
    "start_time": "2024-03-16T12:17:46.094Z"
   },
   {
    "duration": 0,
    "start_time": "2024-03-16T12:17:46.226Z"
   },
   {
    "duration": 0,
    "start_time": "2024-03-16T12:17:46.227Z"
   },
   {
    "duration": 0,
    "start_time": "2024-03-16T12:17:46.228Z"
   },
   {
    "duration": 0,
    "start_time": "2024-03-16T12:17:46.229Z"
   },
   {
    "duration": 0,
    "start_time": "2024-03-16T12:17:46.230Z"
   },
   {
    "duration": 7,
    "start_time": "2024-03-16T12:18:25.892Z"
   },
   {
    "duration": 9,
    "start_time": "2024-03-16T12:18:30.338Z"
   },
   {
    "duration": 8,
    "start_time": "2024-03-16T12:18:31.804Z"
   },
   {
    "duration": 4,
    "start_time": "2024-03-16T12:18:33.365Z"
   },
   {
    "duration": 277,
    "start_time": "2024-03-16T12:18:35.712Z"
   },
   {
    "duration": 221,
    "start_time": "2024-03-16T12:18:39.633Z"
   },
   {
    "duration": 12,
    "start_time": "2024-03-16T12:22:40.670Z"
   },
   {
    "duration": 14,
    "start_time": "2024-03-16T12:23:03.895Z"
   },
   {
    "duration": 15,
    "start_time": "2024-03-16T12:23:51.068Z"
   },
   {
    "duration": 3,
    "start_time": "2024-03-16T12:23:56.202Z"
   },
   {
    "duration": 245,
    "start_time": "2024-03-16T12:24:07.342Z"
   },
   {
    "duration": 309,
    "start_time": "2024-03-16T12:24:10.714Z"
   },
   {
    "duration": 224,
    "start_time": "2024-03-16T12:24:37.253Z"
   },
   {
    "duration": 7,
    "start_time": "2024-03-16T12:25:24.908Z"
   },
   {
    "duration": 8,
    "start_time": "2024-03-16T12:25:34.257Z"
   },
   {
    "duration": 8,
    "start_time": "2024-03-16T12:25:42.802Z"
   },
   {
    "duration": 7,
    "start_time": "2024-03-16T12:25:56.435Z"
   },
   {
    "duration": 44,
    "start_time": "2024-03-16T12:34:23.423Z"
   },
   {
    "duration": 7,
    "start_time": "2024-03-16T12:35:19.335Z"
   },
   {
    "duration": 42,
    "start_time": "2024-03-16T12:38:25.211Z"
   },
   {
    "duration": 49,
    "start_time": "2024-03-16T12:38:51.962Z"
   },
   {
    "duration": 8,
    "start_time": "2024-03-16T12:43:39.418Z"
   },
   {
    "duration": 5,
    "start_time": "2024-03-16T12:47:22.278Z"
   },
   {
    "duration": 10,
    "start_time": "2024-03-16T12:47:25.533Z"
   },
   {
    "duration": 45,
    "start_time": "2024-03-16T12:47:46.695Z"
   },
   {
    "duration": 9,
    "start_time": "2024-03-16T12:49:14.110Z"
   },
   {
    "duration": 10,
    "start_time": "2024-03-16T12:49:43.420Z"
   },
   {
    "duration": 1698,
    "start_time": "2024-03-16T12:50:18.570Z"
   },
   {
    "duration": 1541,
    "start_time": "2024-03-16T12:52:05.716Z"
   },
   {
    "duration": 1489,
    "start_time": "2024-03-16T12:52:18.520Z"
   },
   {
    "duration": 1467,
    "start_time": "2024-03-16T12:53:01.618Z"
   },
   {
    "duration": 1097,
    "start_time": "2024-03-16T12:53:13.937Z"
   },
   {
    "duration": 79,
    "start_time": "2024-03-16T12:53:15.036Z"
   },
   {
    "duration": 29,
    "start_time": "2024-03-16T12:53:15.117Z"
   },
   {
    "duration": 5425,
    "start_time": "2024-03-16T12:53:15.148Z"
   },
   {
    "duration": 8,
    "start_time": "2024-03-16T12:53:20.574Z"
   },
   {
    "duration": 9,
    "start_time": "2024-03-16T12:53:20.583Z"
   },
   {
    "duration": 6,
    "start_time": "2024-03-16T12:53:20.594Z"
   },
   {
    "duration": 12,
    "start_time": "2024-03-16T12:53:20.601Z"
   },
   {
    "duration": 6,
    "start_time": "2024-03-16T12:53:20.615Z"
   },
   {
    "duration": 6,
    "start_time": "2024-03-16T12:53:20.624Z"
   },
   {
    "duration": 39,
    "start_time": "2024-03-16T12:53:20.631Z"
   },
   {
    "duration": 4,
    "start_time": "2024-03-16T12:53:20.672Z"
   },
   {
    "duration": 44,
    "start_time": "2024-03-16T12:53:20.677Z"
   },
   {
    "duration": 13,
    "start_time": "2024-03-16T12:53:20.722Z"
   },
   {
    "duration": 190,
    "start_time": "2024-03-16T12:53:20.736Z"
   },
   {
    "duration": 169,
    "start_time": "2024-03-16T12:53:20.927Z"
   },
   {
    "duration": 274,
    "start_time": "2024-03-16T12:53:21.097Z"
   },
   {
    "duration": 8,
    "start_time": "2024-03-16T12:53:21.373Z"
   },
   {
    "duration": 8,
    "start_time": "2024-03-16T12:53:21.382Z"
   },
   {
    "duration": 829,
    "start_time": "2024-03-16T12:53:21.391Z"
   },
   {
    "duration": 8,
    "start_time": "2024-03-16T12:53:22.221Z"
   },
   {
    "duration": 189,
    "start_time": "2024-03-16T12:53:22.230Z"
   },
   {
    "duration": 373,
    "start_time": "2024-03-16T12:53:22.420Z"
   },
   {
    "duration": 13,
    "start_time": "2024-03-16T12:53:22.794Z"
   },
   {
    "duration": 12,
    "start_time": "2024-03-16T12:53:22.809Z"
   },
   {
    "duration": 9,
    "start_time": "2024-03-16T12:53:22.822Z"
   },
   {
    "duration": 15,
    "start_time": "2024-03-16T12:53:22.832Z"
   },
   {
    "duration": 12,
    "start_time": "2024-03-16T12:53:22.871Z"
   },
   {
    "duration": 258,
    "start_time": "2024-03-16T12:53:22.885Z"
   },
   {
    "duration": 228,
    "start_time": "2024-03-16T12:53:23.145Z"
   },
   {
    "duration": 8,
    "start_time": "2024-03-16T12:53:23.374Z"
   },
   {
    "duration": 7,
    "start_time": "2024-03-16T12:53:23.383Z"
   },
   {
    "duration": 7,
    "start_time": "2024-03-16T12:53:23.391Z"
   },
   {
    "duration": 7,
    "start_time": "2024-03-16T12:53:23.399Z"
   },
   {
    "duration": 70,
    "start_time": "2024-03-16T12:53:23.407Z"
   },
   {
    "duration": 5,
    "start_time": "2024-03-16T12:53:23.479Z"
   },
   {
    "duration": 12,
    "start_time": "2024-03-16T12:53:23.485Z"
   },
   {
    "duration": 1623,
    "start_time": "2024-03-16T12:53:23.498Z"
   },
   {
    "duration": 9,
    "start_time": "2024-03-16T12:53:47.912Z"
   },
   {
    "duration": 12,
    "start_time": "2024-03-16T12:55:06.314Z"
   },
   {
    "duration": 1532,
    "start_time": "2024-03-16T12:55:27.137Z"
   },
   {
    "duration": 42,
    "start_time": "2024-03-16T12:55:42.417Z"
   },
   {
    "duration": 1030,
    "start_time": "2024-03-16T12:56:29.186Z"
   },
   {
    "duration": 80,
    "start_time": "2024-03-16T12:56:30.217Z"
   },
   {
    "duration": 43,
    "start_time": "2024-03-16T12:56:30.298Z"
   },
   {
    "duration": 5411,
    "start_time": "2024-03-16T12:56:30.343Z"
   },
   {
    "duration": 14,
    "start_time": "2024-03-16T12:56:35.757Z"
   },
   {
    "duration": 19,
    "start_time": "2024-03-16T12:56:35.773Z"
   },
   {
    "duration": 19,
    "start_time": "2024-03-16T12:56:35.794Z"
   },
   {
    "duration": 26,
    "start_time": "2024-03-16T12:56:35.815Z"
   },
   {
    "duration": 13,
    "start_time": "2024-03-16T12:56:35.842Z"
   },
   {
    "duration": 15,
    "start_time": "2024-03-16T12:56:35.857Z"
   },
   {
    "duration": 15,
    "start_time": "2024-03-16T12:56:35.874Z"
   },
   {
    "duration": 4,
    "start_time": "2024-03-16T12:56:35.890Z"
   },
   {
    "duration": 33,
    "start_time": "2024-03-16T12:56:35.895Z"
   },
   {
    "duration": 13,
    "start_time": "2024-03-16T12:56:35.930Z"
   },
   {
    "duration": 212,
    "start_time": "2024-03-16T12:56:35.945Z"
   },
   {
    "duration": 158,
    "start_time": "2024-03-16T12:56:36.159Z"
   },
   {
    "duration": 285,
    "start_time": "2024-03-16T12:56:36.319Z"
   },
   {
    "duration": 8,
    "start_time": "2024-03-16T12:56:36.606Z"
   },
   {
    "duration": 8,
    "start_time": "2024-03-16T12:56:36.615Z"
   },
   {
    "duration": 780,
    "start_time": "2024-03-16T12:56:36.624Z"
   },
   {
    "duration": 8,
    "start_time": "2024-03-16T12:56:37.405Z"
   },
   {
    "duration": 192,
    "start_time": "2024-03-16T12:56:37.414Z"
   },
   {
    "duration": 373,
    "start_time": "2024-03-16T12:56:37.607Z"
   },
   {
    "duration": 13,
    "start_time": "2024-03-16T12:56:37.981Z"
   },
   {
    "duration": 13,
    "start_time": "2024-03-16T12:56:37.996Z"
   },
   {
    "duration": 7,
    "start_time": "2024-03-16T12:56:38.011Z"
   },
   {
    "duration": 14,
    "start_time": "2024-03-16T12:56:38.019Z"
   },
   {
    "duration": 11,
    "start_time": "2024-03-16T12:56:38.034Z"
   },
   {
    "duration": 273,
    "start_time": "2024-03-16T12:56:38.046Z"
   },
   {
    "duration": 217,
    "start_time": "2024-03-16T12:56:38.321Z"
   },
   {
    "duration": 8,
    "start_time": "2024-03-16T12:56:38.539Z"
   },
   {
    "duration": 16,
    "start_time": "2024-03-16T12:56:38.548Z"
   },
   {
    "duration": 7,
    "start_time": "2024-03-16T12:56:38.569Z"
   },
   {
    "duration": 13,
    "start_time": "2024-03-16T12:56:38.577Z"
   },
   {
    "duration": 51,
    "start_time": "2024-03-16T12:56:38.591Z"
   },
   {
    "duration": 5,
    "start_time": "2024-03-16T12:56:38.643Z"
   },
   {
    "duration": 24,
    "start_time": "2024-03-16T12:56:38.649Z"
   },
   {
    "duration": 4,
    "start_time": "2024-03-16T12:58:03.510Z"
   },
   {
    "duration": 4,
    "start_time": "2024-03-16T12:58:26.412Z"
   },
   {
    "duration": 7,
    "start_time": "2024-03-16T12:59:14.126Z"
   },
   {
    "duration": 5,
    "start_time": "2024-03-16T13:00:14.265Z"
   },
   {
    "duration": 5,
    "start_time": "2024-03-16T13:02:07.582Z"
   },
   {
    "duration": 5,
    "start_time": "2024-03-16T13:14:32.153Z"
   },
   {
    "duration": 5,
    "start_time": "2024-03-16T13:31:12.724Z"
   },
   {
    "duration": 8,
    "start_time": "2024-03-16T13:34:33.106Z"
   },
   {
    "duration": 29,
    "start_time": "2024-03-16T13:50:31.788Z"
   },
   {
    "duration": 249,
    "start_time": "2024-03-16T13:52:27.624Z"
   },
   {
    "duration": 3,
    "start_time": "2024-03-16T13:59:30.896Z"
   },
   {
    "duration": 4,
    "start_time": "2024-03-16T14:00:32.037Z"
   },
   {
    "duration": 3,
    "start_time": "2024-03-16T14:01:06.499Z"
   },
   {
    "duration": 355,
    "start_time": "2024-03-16T14:01:43.823Z"
   },
   {
    "duration": 1118,
    "start_time": "2024-03-16T14:38:52.705Z"
   },
   {
    "duration": 76,
    "start_time": "2024-03-16T14:38:53.825Z"
   },
   {
    "duration": 28,
    "start_time": "2024-03-16T14:38:53.903Z"
   },
   {
    "duration": 5364,
    "start_time": "2024-03-16T14:38:53.933Z"
   },
   {
    "duration": 7,
    "start_time": "2024-03-16T14:38:59.298Z"
   },
   {
    "duration": 22,
    "start_time": "2024-03-16T14:38:59.306Z"
   },
   {
    "duration": 6,
    "start_time": "2024-03-16T14:38:59.330Z"
   },
   {
    "duration": 10,
    "start_time": "2024-03-16T14:38:59.338Z"
   },
   {
    "duration": 18,
    "start_time": "2024-03-16T14:38:59.350Z"
   },
   {
    "duration": 8,
    "start_time": "2024-03-16T14:38:59.371Z"
   },
   {
    "duration": 18,
    "start_time": "2024-03-16T14:38:59.381Z"
   },
   {
    "duration": 9,
    "start_time": "2024-03-16T14:38:59.401Z"
   },
   {
    "duration": 34,
    "start_time": "2024-03-16T14:38:59.412Z"
   },
   {
    "duration": 31,
    "start_time": "2024-03-16T14:38:59.448Z"
   },
   {
    "duration": 193,
    "start_time": "2024-03-16T14:38:59.481Z"
   },
   {
    "duration": 171,
    "start_time": "2024-03-16T14:38:59.675Z"
   },
   {
    "duration": 327,
    "start_time": "2024-03-16T14:38:59.848Z"
   },
   {
    "duration": 9,
    "start_time": "2024-03-16T14:39:00.177Z"
   },
   {
    "duration": 76,
    "start_time": "2024-03-16T14:39:00.188Z"
   },
   {
    "duration": 884,
    "start_time": "2024-03-16T14:39:00.265Z"
   },
   {
    "duration": 8,
    "start_time": "2024-03-16T14:39:01.150Z"
   },
   {
    "duration": 225,
    "start_time": "2024-03-16T14:39:01.159Z"
   },
   {
    "duration": 380,
    "start_time": "2024-03-16T14:39:01.385Z"
   },
   {
    "duration": 13,
    "start_time": "2024-03-16T14:39:01.769Z"
   },
   {
    "duration": 32,
    "start_time": "2024-03-16T14:39:01.783Z"
   },
   {
    "duration": 38,
    "start_time": "2024-03-16T14:39:01.817Z"
   },
   {
    "duration": 37,
    "start_time": "2024-03-16T14:39:01.856Z"
   },
   {
    "duration": 38,
    "start_time": "2024-03-16T14:39:01.896Z"
   },
   {
    "duration": 327,
    "start_time": "2024-03-16T14:39:01.935Z"
   },
   {
    "duration": 212,
    "start_time": "2024-03-16T14:39:02.263Z"
   },
   {
    "duration": 7,
    "start_time": "2024-03-16T14:39:02.477Z"
   },
   {
    "duration": 48,
    "start_time": "2024-03-16T14:39:02.486Z"
   },
   {
    "duration": 50,
    "start_time": "2024-03-16T14:39:02.535Z"
   },
   {
    "duration": 61,
    "start_time": "2024-03-16T14:39:02.586Z"
   },
   {
    "duration": 80,
    "start_time": "2024-03-16T14:39:02.649Z"
   },
   {
    "duration": 6,
    "start_time": "2024-03-16T14:39:02.731Z"
   },
   {
    "duration": 34,
    "start_time": "2024-03-16T14:39:02.738Z"
   },
   {
    "duration": 19,
    "start_time": "2024-03-16T14:39:02.773Z"
   },
   {
    "duration": 12,
    "start_time": "2024-03-16T14:39:02.794Z"
   },
   {
    "duration": 32,
    "start_time": "2024-03-16T14:39:02.808Z"
   },
   {
    "duration": 34,
    "start_time": "2024-03-16T14:39:02.842Z"
   },
   {
    "duration": 50,
    "start_time": "2024-03-16T14:39:02.878Z"
   },
   {
    "duration": 242,
    "start_time": "2024-03-16T14:39:02.930Z"
   },
   {
    "duration": 3,
    "start_time": "2024-03-16T14:39:03.174Z"
   },
   {
    "duration": 8,
    "start_time": "2024-03-16T14:39:03.179Z"
   },
   {
    "duration": 9,
    "start_time": "2024-03-16T14:39:03.189Z"
   },
   {
    "duration": 234,
    "start_time": "2024-03-16T14:39:03.199Z"
   },
   {
    "duration": 1111,
    "start_time": "2024-03-16T15:13:30.766Z"
   },
   {
    "duration": 80,
    "start_time": "2024-03-16T15:13:31.879Z"
   },
   {
    "duration": 33,
    "start_time": "2024-03-16T15:13:31.960Z"
   },
   {
    "duration": 5391,
    "start_time": "2024-03-16T15:13:31.995Z"
   },
   {
    "duration": 9,
    "start_time": "2024-03-16T15:13:37.387Z"
   },
   {
    "duration": 12,
    "start_time": "2024-03-16T15:13:37.397Z"
   },
   {
    "duration": 6,
    "start_time": "2024-03-16T15:13:37.410Z"
   },
   {
    "duration": 12,
    "start_time": "2024-03-16T15:13:37.418Z"
   },
   {
    "duration": 20,
    "start_time": "2024-03-16T15:13:37.431Z"
   },
   {
    "duration": 7,
    "start_time": "2024-03-16T15:13:37.453Z"
   },
   {
    "duration": 15,
    "start_time": "2024-03-16T15:13:37.469Z"
   },
   {
    "duration": 12,
    "start_time": "2024-03-16T15:13:37.486Z"
   },
   {
    "duration": 28,
    "start_time": "2024-03-16T15:13:37.499Z"
   },
   {
    "duration": 13,
    "start_time": "2024-03-16T15:13:37.528Z"
   },
   {
    "duration": 195,
    "start_time": "2024-03-16T15:13:37.543Z"
   },
   {
    "duration": 163,
    "start_time": "2024-03-16T15:13:37.739Z"
   },
   {
    "duration": 285,
    "start_time": "2024-03-16T15:13:37.904Z"
   },
   {
    "duration": 8,
    "start_time": "2024-03-16T15:13:38.191Z"
   },
   {
    "duration": 8,
    "start_time": "2024-03-16T15:13:38.200Z"
   },
   {
    "duration": 791,
    "start_time": "2024-03-16T15:13:38.209Z"
   },
   {
    "duration": 7,
    "start_time": "2024-03-16T15:13:39.001Z"
   },
   {
    "duration": 187,
    "start_time": "2024-03-16T15:13:39.009Z"
   },
   {
    "duration": 376,
    "start_time": "2024-03-16T15:13:39.197Z"
   },
   {
    "duration": 15,
    "start_time": "2024-03-16T15:13:39.574Z"
   },
   {
    "duration": 12,
    "start_time": "2024-03-16T15:13:39.590Z"
   },
   {
    "duration": 6,
    "start_time": "2024-03-16T15:13:39.603Z"
   },
   {
    "duration": 14,
    "start_time": "2024-03-16T15:13:39.611Z"
   },
   {
    "duration": 42,
    "start_time": "2024-03-16T15:13:39.628Z"
   },
   {
    "duration": 265,
    "start_time": "2024-03-16T15:13:39.672Z"
   },
   {
    "duration": 225,
    "start_time": "2024-03-16T15:13:39.939Z"
   },
   {
    "duration": 9,
    "start_time": "2024-03-16T15:13:40.169Z"
   },
   {
    "duration": 7,
    "start_time": "2024-03-16T15:13:40.180Z"
   },
   {
    "duration": 6,
    "start_time": "2024-03-16T15:13:40.188Z"
   },
   {
    "duration": 6,
    "start_time": "2024-03-16T15:13:40.196Z"
   },
   {
    "duration": 69,
    "start_time": "2024-03-16T15:13:40.204Z"
   },
   {
    "duration": 6,
    "start_time": "2024-03-16T15:13:40.274Z"
   },
   {
    "duration": 19,
    "start_time": "2024-03-16T15:13:40.281Z"
   },
   {
    "duration": 5,
    "start_time": "2024-03-16T15:13:40.301Z"
   },
   {
    "duration": 10,
    "start_time": "2024-03-16T15:13:40.307Z"
   },
   {
    "duration": 13,
    "start_time": "2024-03-16T15:13:40.318Z"
   },
   {
    "duration": 12,
    "start_time": "2024-03-16T15:13:40.332Z"
   },
   {
    "duration": 37,
    "start_time": "2024-03-16T15:13:40.345Z"
   },
   {
    "duration": 270,
    "start_time": "2024-03-16T15:13:40.384Z"
   },
   {
    "duration": 3,
    "start_time": "2024-03-16T15:13:40.656Z"
   },
   {
    "duration": 3,
    "start_time": "2024-03-16T15:13:40.669Z"
   },
   {
    "duration": 5,
    "start_time": "2024-03-16T15:13:40.674Z"
   },
   {
    "duration": 251,
    "start_time": "2024-03-16T15:13:40.680Z"
   },
   {
    "duration": 101,
    "start_time": "2024-03-16T15:23:20.774Z"
   },
   {
    "duration": 9,
    "start_time": "2024-03-16T15:23:31.310Z"
   },
   {
    "duration": 1096,
    "start_time": "2024-03-16T15:26:23.051Z"
   },
   {
    "duration": 82,
    "start_time": "2024-03-16T15:26:24.149Z"
   },
   {
    "duration": 29,
    "start_time": "2024-03-16T15:26:24.233Z"
   },
   {
    "duration": 5302,
    "start_time": "2024-03-16T15:26:24.264Z"
   },
   {
    "duration": 6,
    "start_time": "2024-03-16T15:26:29.569Z"
   },
   {
    "duration": 19,
    "start_time": "2024-03-16T15:26:29.577Z"
   },
   {
    "duration": 24,
    "start_time": "2024-03-16T15:26:29.597Z"
   },
   {
    "duration": 17,
    "start_time": "2024-03-16T15:26:29.622Z"
   },
   {
    "duration": 19,
    "start_time": "2024-03-16T15:26:29.640Z"
   },
   {
    "duration": 14,
    "start_time": "2024-03-16T15:26:29.662Z"
   },
   {
    "duration": 32,
    "start_time": "2024-03-16T15:26:29.677Z"
   },
   {
    "duration": 33,
    "start_time": "2024-03-16T15:26:29.710Z"
   },
   {
    "duration": 40,
    "start_time": "2024-03-16T15:26:29.745Z"
   },
   {
    "duration": 38,
    "start_time": "2024-03-16T15:26:29.787Z"
   },
   {
    "duration": 235,
    "start_time": "2024-03-16T15:26:29.826Z"
   },
   {
    "duration": 176,
    "start_time": "2024-03-16T15:26:30.063Z"
   },
   {
    "duration": 341,
    "start_time": "2024-03-16T15:26:30.241Z"
   },
   {
    "duration": 10,
    "start_time": "2024-03-16T15:26:30.584Z"
   },
   {
    "duration": 79,
    "start_time": "2024-03-16T15:26:30.595Z"
   },
   {
    "duration": 808,
    "start_time": "2024-03-16T15:26:30.676Z"
   },
   {
    "duration": 8,
    "start_time": "2024-03-16T15:26:31.486Z"
   },
   {
    "duration": 261,
    "start_time": "2024-03-16T15:26:31.495Z"
   },
   {
    "duration": 373,
    "start_time": "2024-03-16T15:26:31.758Z"
   },
   {
    "duration": 16,
    "start_time": "2024-03-16T15:26:32.133Z"
   },
   {
    "duration": 27,
    "start_time": "2024-03-16T15:26:32.151Z"
   },
   {
    "duration": 24,
    "start_time": "2024-03-16T15:26:32.181Z"
   },
   {
    "duration": 28,
    "start_time": "2024-03-16T15:26:32.207Z"
   },
   {
    "duration": 39,
    "start_time": "2024-03-16T15:26:32.237Z"
   },
   {
    "duration": 263,
    "start_time": "2024-03-16T15:26:32.278Z"
   },
   {
    "duration": 212,
    "start_time": "2024-03-16T15:26:32.543Z"
   },
   {
    "duration": 14,
    "start_time": "2024-03-16T15:26:32.756Z"
   },
   {
    "duration": 9,
    "start_time": "2024-03-16T15:26:32.772Z"
   },
   {
    "duration": 12,
    "start_time": "2024-03-16T15:26:32.782Z"
   },
   {
    "duration": 22,
    "start_time": "2024-03-16T15:26:32.796Z"
   },
   {
    "duration": 47,
    "start_time": "2024-03-16T15:26:32.819Z"
   },
   {
    "duration": 5,
    "start_time": "2024-03-16T15:26:32.868Z"
   },
   {
    "duration": 23,
    "start_time": "2024-03-16T15:26:32.875Z"
   },
   {
    "duration": 23,
    "start_time": "2024-03-16T15:26:32.899Z"
   },
   {
    "duration": 39,
    "start_time": "2024-03-16T15:26:32.924Z"
   },
   {
    "duration": 7,
    "start_time": "2024-03-16T15:26:32.964Z"
   },
   {
    "duration": 8,
    "start_time": "2024-03-16T15:26:32.973Z"
   },
   {
    "duration": 29,
    "start_time": "2024-03-16T15:26:32.982Z"
   },
   {
    "duration": 224,
    "start_time": "2024-03-16T15:26:33.012Z"
   },
   {
    "duration": 2,
    "start_time": "2024-03-16T15:26:33.238Z"
   },
   {
    "duration": 25,
    "start_time": "2024-03-16T15:26:33.241Z"
   },
   {
    "duration": 18,
    "start_time": "2024-03-16T15:26:33.267Z"
   },
   {
    "duration": 236,
    "start_time": "2024-03-16T15:26:33.286Z"
   },
   {
    "duration": 1062,
    "start_time": "2024-03-16T15:27:57.647Z"
   },
   {
    "duration": 77,
    "start_time": "2024-03-16T15:27:58.711Z"
   },
   {
    "duration": 28,
    "start_time": "2024-03-16T15:27:58.789Z"
   },
   {
    "duration": 5459,
    "start_time": "2024-03-16T15:27:58.819Z"
   },
   {
    "duration": 7,
    "start_time": "2024-03-16T15:28:04.279Z"
   },
   {
    "duration": 10,
    "start_time": "2024-03-16T15:28:04.287Z"
   },
   {
    "duration": 6,
    "start_time": "2024-03-16T15:28:04.298Z"
   },
   {
    "duration": 13,
    "start_time": "2024-03-16T15:28:04.305Z"
   },
   {
    "duration": 43,
    "start_time": "2024-03-16T15:28:04.320Z"
   },
   {
    "duration": 7,
    "start_time": "2024-03-16T15:28:04.365Z"
   },
   {
    "duration": 17,
    "start_time": "2024-03-16T15:28:04.373Z"
   },
   {
    "duration": 8,
    "start_time": "2024-03-16T15:28:04.391Z"
   },
   {
    "duration": 28,
    "start_time": "2024-03-16T15:28:04.401Z"
   },
   {
    "duration": 13,
    "start_time": "2024-03-16T15:28:04.431Z"
   },
   {
    "duration": 192,
    "start_time": "2024-03-16T15:28:04.470Z"
   },
   {
    "duration": 162,
    "start_time": "2024-03-16T15:28:04.669Z"
   },
   {
    "duration": 269,
    "start_time": "2024-03-16T15:28:04.833Z"
   },
   {
    "duration": 8,
    "start_time": "2024-03-16T15:28:05.104Z"
   },
   {
    "duration": 15,
    "start_time": "2024-03-16T15:28:05.114Z"
   },
   {
    "duration": 813,
    "start_time": "2024-03-16T15:28:05.131Z"
   },
   {
    "duration": 8,
    "start_time": "2024-03-16T15:28:05.945Z"
   },
   {
    "duration": 188,
    "start_time": "2024-03-16T15:28:05.954Z"
   },
   {
    "duration": 394,
    "start_time": "2024-03-16T15:28:06.144Z"
   },
   {
    "duration": 14,
    "start_time": "2024-03-16T15:28:06.539Z"
   },
   {
    "duration": 24,
    "start_time": "2024-03-16T15:28:06.555Z"
   },
   {
    "duration": 5,
    "start_time": "2024-03-16T15:28:06.581Z"
   },
   {
    "duration": 15,
    "start_time": "2024-03-16T15:28:06.588Z"
   },
   {
    "duration": 20,
    "start_time": "2024-03-16T15:28:06.606Z"
   },
   {
    "duration": 272,
    "start_time": "2024-03-16T15:28:06.627Z"
   },
   {
    "duration": 209,
    "start_time": "2024-03-16T15:28:06.901Z"
   },
   {
    "duration": 7,
    "start_time": "2024-03-16T15:28:07.112Z"
   },
   {
    "duration": 7,
    "start_time": "2024-03-16T15:28:07.120Z"
   },
   {
    "duration": 6,
    "start_time": "2024-03-16T15:28:07.129Z"
   },
   {
    "duration": 7,
    "start_time": "2024-03-16T15:28:07.136Z"
   },
   {
    "duration": 43,
    "start_time": "2024-03-16T15:28:07.169Z"
   },
   {
    "duration": 5,
    "start_time": "2024-03-16T15:28:07.214Z"
   },
   {
    "duration": 26,
    "start_time": "2024-03-16T15:28:07.221Z"
   },
   {
    "duration": 19,
    "start_time": "2024-03-16T15:28:07.248Z"
   },
   {
    "duration": 43,
    "start_time": "2024-03-16T15:28:07.268Z"
   },
   {
    "duration": 12,
    "start_time": "2024-03-16T15:28:07.313Z"
   },
   {
    "duration": 10,
    "start_time": "2024-03-16T15:28:07.326Z"
   },
   {
    "duration": 24,
    "start_time": "2024-03-16T15:28:07.337Z"
   },
   {
    "duration": 255,
    "start_time": "2024-03-16T15:28:07.362Z"
   },
   {
    "duration": 2,
    "start_time": "2024-03-16T15:28:07.619Z"
   },
   {
    "duration": 4,
    "start_time": "2024-03-16T15:28:07.622Z"
   },
   {
    "duration": 7,
    "start_time": "2024-03-16T15:28:07.628Z"
   },
   {
    "duration": 280,
    "start_time": "2024-03-16T15:28:07.636Z"
   },
   {
    "duration": 112,
    "start_time": "2024-03-16T17:43:01.223Z"
   },
   {
    "duration": 1328,
    "start_time": "2024-03-16T17:49:16.849Z"
   },
   {
    "duration": 311,
    "start_time": "2024-03-16T17:49:18.179Z"
   },
   {
    "duration": 33,
    "start_time": "2024-03-16T17:49:18.491Z"
   },
   {
    "duration": 5826,
    "start_time": "2024-03-16T17:49:18.527Z"
   },
   {
    "duration": 7,
    "start_time": "2024-03-16T17:49:24.356Z"
   },
   {
    "duration": 11,
    "start_time": "2024-03-16T17:49:24.365Z"
   },
   {
    "duration": 9,
    "start_time": "2024-03-16T17:49:24.386Z"
   },
   {
    "duration": 11,
    "start_time": "2024-03-16T17:49:24.397Z"
   },
   {
    "duration": 7,
    "start_time": "2024-03-16T17:49:24.410Z"
   },
   {
    "duration": 10,
    "start_time": "2024-03-16T17:49:24.420Z"
   },
   {
    "duration": 56,
    "start_time": "2024-03-16T17:49:24.432Z"
   },
   {
    "duration": 4,
    "start_time": "2024-03-16T17:49:24.490Z"
   },
   {
    "duration": 33,
    "start_time": "2024-03-16T17:49:24.496Z"
   },
   {
    "duration": 17,
    "start_time": "2024-03-16T17:49:24.531Z"
   },
   {
    "duration": 222,
    "start_time": "2024-03-16T17:49:24.550Z"
   },
   {
    "duration": 178,
    "start_time": "2024-03-16T17:49:24.774Z"
   },
   {
    "duration": 328,
    "start_time": "2024-03-16T17:49:24.953Z"
   },
   {
    "duration": 13,
    "start_time": "2024-03-16T17:49:25.283Z"
   },
   {
    "duration": 9,
    "start_time": "2024-03-16T17:49:25.297Z"
   },
   {
    "duration": 855,
    "start_time": "2024-03-16T17:49:25.308Z"
   },
   {
    "duration": 8,
    "start_time": "2024-03-16T17:49:26.164Z"
   },
   {
    "duration": 218,
    "start_time": "2024-03-16T17:49:26.174Z"
   },
   {
    "duration": 409,
    "start_time": "2024-03-16T17:49:26.393Z"
   },
   {
    "duration": 15,
    "start_time": "2024-03-16T17:49:26.804Z"
   },
   {
    "duration": 12,
    "start_time": "2024-03-16T17:49:26.820Z"
   },
   {
    "duration": 7,
    "start_time": "2024-03-16T17:49:26.834Z"
   },
   {
    "duration": 47,
    "start_time": "2024-03-16T17:49:26.842Z"
   },
   {
    "duration": 13,
    "start_time": "2024-03-16T17:49:26.892Z"
   },
   {
    "duration": 282,
    "start_time": "2024-03-16T17:49:26.906Z"
   },
   {
    "duration": 246,
    "start_time": "2024-03-16T17:49:27.190Z"
   },
   {
    "duration": 8,
    "start_time": "2024-03-16T17:49:27.438Z"
   },
   {
    "duration": 9,
    "start_time": "2024-03-16T17:49:27.448Z"
   },
   {
    "duration": 32,
    "start_time": "2024-03-16T17:49:27.459Z"
   },
   {
    "duration": 10,
    "start_time": "2024-03-16T17:49:27.493Z"
   },
   {
    "duration": 51,
    "start_time": "2024-03-16T17:49:27.505Z"
   },
   {
    "duration": 29,
    "start_time": "2024-03-16T17:49:27.558Z"
   },
   {
    "duration": 10,
    "start_time": "2024-03-16T17:49:27.589Z"
   },
   {
    "duration": 8,
    "start_time": "2024-03-16T17:49:27.601Z"
   },
   {
    "duration": 6,
    "start_time": "2024-03-16T17:49:27.611Z"
   },
   {
    "duration": 12,
    "start_time": "2024-03-16T17:49:27.618Z"
   },
   {
    "duration": 8,
    "start_time": "2024-03-16T17:49:27.632Z"
   },
   {
    "duration": 58,
    "start_time": "2024-03-16T17:49:27.642Z"
   },
   {
    "duration": 328,
    "start_time": "2024-03-16T17:49:27.701Z"
   },
   {
    "duration": 2,
    "start_time": "2024-03-16T17:49:28.031Z"
   },
   {
    "duration": 3,
    "start_time": "2024-03-16T17:49:28.035Z"
   },
   {
    "duration": 7,
    "start_time": "2024-03-16T17:49:28.040Z"
   },
   {
    "duration": 290,
    "start_time": "2024-03-16T17:49:28.049Z"
   },
   {
    "duration": 1054,
    "start_time": "2024-03-16T20:48:10.995Z"
   },
   {
    "duration": 79,
    "start_time": "2024-03-16T20:48:12.050Z"
   },
   {
    "duration": 35,
    "start_time": "2024-03-16T20:48:12.130Z"
   },
   {
    "duration": 5398,
    "start_time": "2024-03-16T20:48:12.167Z"
   },
   {
    "duration": 8,
    "start_time": "2024-03-16T20:48:17.566Z"
   },
   {
    "duration": 11,
    "start_time": "2024-03-16T20:48:17.576Z"
   },
   {
    "duration": 11,
    "start_time": "2024-03-16T20:48:17.589Z"
   },
   {
    "duration": 10,
    "start_time": "2024-03-16T20:48:17.602Z"
   },
   {
    "duration": 7,
    "start_time": "2024-03-16T20:48:17.614Z"
   },
   {
    "duration": 8,
    "start_time": "2024-03-16T20:48:17.624Z"
   },
   {
    "duration": 42,
    "start_time": "2024-03-16T20:48:17.633Z"
   },
   {
    "duration": 4,
    "start_time": "2024-03-16T20:48:17.677Z"
   },
   {
    "duration": 34,
    "start_time": "2024-03-16T20:48:17.683Z"
   },
   {
    "duration": 13,
    "start_time": "2024-03-16T20:48:17.721Z"
   },
   {
    "duration": 210,
    "start_time": "2024-03-16T20:48:17.736Z"
   },
   {
    "duration": 170,
    "start_time": "2024-03-16T20:48:17.948Z"
   },
   {
    "duration": 304,
    "start_time": "2024-03-16T20:48:18.119Z"
   },
   {
    "duration": 9,
    "start_time": "2024-03-16T20:48:18.425Z"
   },
   {
    "duration": 15,
    "start_time": "2024-03-16T20:48:18.436Z"
   },
   {
    "duration": 788,
    "start_time": "2024-03-16T20:48:18.453Z"
   },
   {
    "duration": 8,
    "start_time": "2024-03-16T20:48:19.243Z"
   },
   {
    "duration": 190,
    "start_time": "2024-03-16T20:48:19.253Z"
   },
   {
    "duration": 399,
    "start_time": "2024-03-16T20:48:19.445Z"
   },
   {
    "duration": 15,
    "start_time": "2024-03-16T20:48:19.845Z"
   },
   {
    "duration": 12,
    "start_time": "2024-03-16T20:48:19.869Z"
   },
   {
    "duration": 8,
    "start_time": "2024-03-16T20:48:19.883Z"
   },
   {
    "duration": 18,
    "start_time": "2024-03-16T20:48:19.892Z"
   },
   {
    "duration": 13,
    "start_time": "2024-03-16T20:48:19.913Z"
   },
   {
    "duration": 279,
    "start_time": "2024-03-16T20:48:19.927Z"
   },
   {
    "duration": 232,
    "start_time": "2024-03-16T20:48:20.207Z"
   },
   {
    "duration": 10,
    "start_time": "2024-03-16T20:48:20.441Z"
   },
   {
    "duration": 19,
    "start_time": "2024-03-16T20:48:20.453Z"
   },
   {
    "duration": 9,
    "start_time": "2024-03-16T20:48:20.473Z"
   },
   {
    "duration": 15,
    "start_time": "2024-03-16T20:48:20.483Z"
   },
   {
    "duration": 49,
    "start_time": "2024-03-16T20:48:20.500Z"
   },
   {
    "duration": 25,
    "start_time": "2024-03-16T20:48:20.550Z"
   },
   {
    "duration": 20,
    "start_time": "2024-03-16T20:48:20.577Z"
   },
   {
    "duration": 7,
    "start_time": "2024-03-16T20:48:20.599Z"
   },
   {
    "duration": 6,
    "start_time": "2024-03-16T20:48:20.608Z"
   },
   {
    "duration": 11,
    "start_time": "2024-03-16T20:48:20.615Z"
   },
   {
    "duration": 9,
    "start_time": "2024-03-16T20:48:20.627Z"
   },
   {
    "duration": 66,
    "start_time": "2024-03-16T20:48:20.638Z"
   },
   {
    "duration": 239,
    "start_time": "2024-03-16T20:48:20.706Z"
   },
   {
    "duration": 2,
    "start_time": "2024-03-16T20:48:20.947Z"
   },
   {
    "duration": 15,
    "start_time": "2024-03-16T20:48:20.951Z"
   },
   {
    "duration": 5,
    "start_time": "2024-03-16T20:48:20.969Z"
   },
   {
    "duration": 263,
    "start_time": "2024-03-16T20:48:20.975Z"
   },
   {
    "duration": 1104,
    "start_time": "2024-03-16T20:49:15.765Z"
   },
   {
    "duration": 79,
    "start_time": "2024-03-16T20:49:16.871Z"
   },
   {
    "duration": 30,
    "start_time": "2024-03-16T20:49:16.951Z"
   },
   {
    "duration": 5405,
    "start_time": "2024-03-16T20:49:16.982Z"
   },
   {
    "duration": 7,
    "start_time": "2024-03-16T20:49:22.389Z"
   },
   {
    "duration": 10,
    "start_time": "2024-03-16T20:49:22.397Z"
   },
   {
    "duration": 6,
    "start_time": "2024-03-16T20:49:22.408Z"
   },
   {
    "duration": 5,
    "start_time": "2024-03-16T20:49:22.415Z"
   },
   {
    "duration": 6,
    "start_time": "2024-03-16T20:49:22.421Z"
   },
   {
    "duration": 6,
    "start_time": "2024-03-16T20:49:22.429Z"
   },
   {
    "duration": 43,
    "start_time": "2024-03-16T20:49:22.437Z"
   },
   {
    "duration": 4,
    "start_time": "2024-03-16T20:49:22.481Z"
   },
   {
    "duration": 28,
    "start_time": "2024-03-16T20:49:22.487Z"
   },
   {
    "duration": 13,
    "start_time": "2024-03-16T20:49:22.516Z"
   },
   {
    "duration": 197,
    "start_time": "2024-03-16T20:49:22.531Z"
   },
   {
    "duration": 159,
    "start_time": "2024-03-16T20:49:22.730Z"
   },
   {
    "duration": 288,
    "start_time": "2024-03-16T20:49:22.891Z"
   },
   {
    "duration": 9,
    "start_time": "2024-03-16T20:49:23.181Z"
   },
   {
    "duration": 8,
    "start_time": "2024-03-16T20:49:23.191Z"
   },
   {
    "duration": 790,
    "start_time": "2024-03-16T20:49:23.200Z"
   },
   {
    "duration": 8,
    "start_time": "2024-03-16T20:49:23.992Z"
   },
   {
    "duration": 207,
    "start_time": "2024-03-16T20:49:24.001Z"
   },
   {
    "duration": 384,
    "start_time": "2024-03-16T20:49:24.209Z"
   },
   {
    "duration": 14,
    "start_time": "2024-03-16T20:49:24.594Z"
   },
   {
    "duration": 11,
    "start_time": "2024-03-16T20:49:24.609Z"
   },
   {
    "duration": 20,
    "start_time": "2024-03-16T20:49:24.621Z"
   },
   {
    "duration": 22,
    "start_time": "2024-03-16T20:49:24.643Z"
   },
   {
    "duration": 12,
    "start_time": "2024-03-16T20:49:24.671Z"
   },
   {
    "duration": 255,
    "start_time": "2024-03-16T20:49:24.684Z"
   },
   {
    "duration": 214,
    "start_time": "2024-03-16T20:49:24.940Z"
   },
   {
    "duration": 8,
    "start_time": "2024-03-16T20:49:25.155Z"
   },
   {
    "duration": 14,
    "start_time": "2024-03-16T20:49:25.170Z"
   },
   {
    "duration": 12,
    "start_time": "2024-03-16T20:49:25.185Z"
   },
   {
    "duration": 20,
    "start_time": "2024-03-16T20:49:25.198Z"
   },
   {
    "duration": 51,
    "start_time": "2024-03-16T20:49:25.219Z"
   },
   {
    "duration": 5,
    "start_time": "2024-03-16T20:49:25.271Z"
   },
   {
    "duration": 23,
    "start_time": "2024-03-16T20:49:25.278Z"
   },
   {
    "duration": 12,
    "start_time": "2024-03-16T20:49:25.303Z"
   },
   {
    "duration": 24,
    "start_time": "2024-03-16T20:49:25.317Z"
   },
   {
    "duration": 17,
    "start_time": "2024-03-16T20:49:25.342Z"
   },
   {
    "duration": 11,
    "start_time": "2024-03-16T20:49:25.361Z"
   },
   {
    "duration": 47,
    "start_time": "2024-03-16T20:49:25.373Z"
   },
   {
    "duration": 220,
    "start_time": "2024-03-16T20:49:25.422Z"
   },
   {
    "duration": 2,
    "start_time": "2024-03-16T20:49:25.644Z"
   },
   {
    "duration": 31,
    "start_time": "2024-03-16T20:49:25.647Z"
   },
   {
    "duration": 15,
    "start_time": "2024-03-16T20:49:25.679Z"
   },
   {
    "duration": 276,
    "start_time": "2024-03-16T20:49:25.695Z"
   },
   {
    "duration": 1088,
    "start_time": "2024-03-23T12:19:56.765Z"
   }
  ],
  "kernelspec": {
   "display_name": "Python 3 (ipykernel)",
   "language": "python",
   "name": "python3"
  },
  "language_info": {
   "codemirror_mode": {
    "name": "ipython",
    "version": 3
   },
   "file_extension": ".py",
   "mimetype": "text/x-python",
   "name": "python",
   "nbconvert_exporter": "python",
   "pygments_lexer": "ipython3",
   "version": "3.9.5"
  },
  "toc": {
   "base_numbering": 1,
   "nav_menu": {
    "height": "168px",
    "width": "420px"
   },
   "number_sections": true,
   "sideBar": true,
   "skip_h1_title": true,
   "title_cell": "Оглавление",
   "title_sidebar": "Contents",
   "toc_cell": true,
   "toc_position": {},
   "toc_section_display": true,
   "toc_window_display": false
  }
 },
 "nbformat": 4,
 "nbformat_minor": 5
}
